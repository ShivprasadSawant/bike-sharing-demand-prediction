{
  "nbformat": 4,
  "nbformat_minor": 0,
  "metadata": {
    "colab": {
      "private_outputs": true,
      "provenance": [],
      "collapsed_sections": [
        "KSlN3yHqYklG",
        "t6dVpIINYklI",
        "ijmpgYnKYklI",
        "-JiQyfWJYklI",
        "EM7whBJCYoAo",
        "4Of9eVA-YrdM",
        "bamQiAODYuh1",
        "OH-pJp9IphqM",
        "PIIx-8_IphqN",
        "BZR9WyysphqO",
        "YJ55k-q6phqO",
        "U2RJ9gkRphqQ",
        "x-EpHcCOp1ci",
        "n3dbpmDWp1ck",
        "Ag9LCva-p1cl",
        "8yEUt7NnHlrM",
        "I79__PHVH19G",
        "Ou-I18pAyIpj",
        "fF3858GYyt-u",
        "4_0_7-oCpUZd",
        "hwyV_J3ipUZe",
        "3yB-zSqbpUZe",
        "dEUvejAfpUZe",
        "Fd15vwWVpUZf",
        "49K5P_iCpZyH",
        "Nff-vKELpZyI",
        "kLW572S8pZyI",
        "dWbDXHzopZyI",
        "kexQrXU-DjzY",
        "T5CmagL3EC8N",
        "TIqpNgepFxVj",
        "OB4l2ZhMeS1U",
        "ArJBuiUVfxKd",
        "4qY1EAkEfxKe",
        "PiV4Ypx8fxKe",
        "TfvqoZmBfxKf",
        "dJ2tPlVmpsJ0",
        "JWYfwnehpsJ1",
        "-jK_YjpMpsJ2",
        "HAih1iBOpsJ2",
        "zVGeBEFhpsJ2",
        "bmKjuQ-FpsJ3",
        "Fze-IPXLpx6K",
        "7AN1z2sKpx6M",
        "9PIHJqyupx6M",
        "_-qAgymDpx6N",
        "Z-hykwinpx6N",
        "h_CCil-SKHpo",
        "cBFFvTBNJzUa",
        "HvGl1hHyA_VK",
        "EyNgTHvd2WFk",
        "KH5McJBi2d8v",
        "iW_Lq9qf2h6X",
        "-Kee-DAl2viO",
        "gCX9965dhzqZ",
        "gIfDvo9L0UH2"
      ],
      "include_colab_link": true
    },
    "kernelspec": {
      "name": "python3",
      "display_name": "Python 3"
    },
    "language_info": {
      "name": "python"
    }
  },
  "cells": [
    {
      "cell_type": "markdown",
      "metadata": {
        "id": "view-in-github",
        "colab_type": "text"
      },
      "source": [
        "<a href=\"https://colab.research.google.com/github/ShivprasadSawant/bike-sharing-demand-prediction/blob/main/Shivprasad_Sawant_Supervised_Regression_ML_Bike_Sharing_Demand_Prediction_.ipynb\" target=\"_parent\"><img src=\"https://colab.research.google.com/assets/colab-badge.svg\" alt=\"Open In Colab\"/></a>"
      ]
    },
    {
      "cell_type": "markdown",
      "source": [
        "# **Project Name**    -\n",
        "\n"
      ],
      "metadata": {
        "id": "vncDsAP0Gaoa"
      }
    },
    {
      "cell_type": "markdown",
      "source": [
        "##### **Project Type**    - Regression\n",
        "##### **Contribution**    - Individual\n",
        "##### **Team Member 1 -** Shivprasad Vitthal Sawant"
      ],
      "metadata": {
        "id": "beRrZCGUAJYm"
      }
    },
    {
      "cell_type": "markdown",
      "source": [
        "# **Project Summary -**"
      ],
      "metadata": {
        "id": "FJNUwmbgGyua"
      }
    },
    {
      "cell_type": "markdown",
      "source": [
        "The project focuses on bike sharing demand prediction using supervised learning regression models, utilizing a comprehensive dataset sourced from Seoul's bike sharing system.The primary objectives of the project are exploratory data analysis (EDA) to uncover insights and the implementation of regression models for demand prediction.It also includes Hypothesis testing we will also use statistical methods to prove it.\n",
        "\n",
        "In the first phase there would be just looking at data from different angles and from which we can plan next steps of cleaning and manipulations for charts.\n",
        "Then we go for Data Cleaning were we change formats,remove extra characters, numbers, alphabets etc.After that we check for duplicates and outliers.Then comes manipulation and charting phase which involves the visualization of data patterns and relationships. Utilizing diverse plotting techniques such as line, bar, histogram, scatter, and pair plots, the project delves into temporal trends, climatic impact, and seasonal variations. The visualization techniques help reveal peak hours, correlations between climatic factors and rental counts, and other relevant trends, laying the groundwork for informed decision-making.\n",
        "\n",
        "Moving into the supervised learning regression models phase, the project aims to build predictive models that estimate bike rental counts based on the dataset's features. The dataset's rich information on weather conditions, time of day, and special events (holidays) holds the potential to be crucial predictors of demand. By training and evaluating regression models, the project aims to provide accurate forecasts for bike rental demand. These predictions are invaluable for bike sharing organizations, enabling efficient allocation of resources, minimizing operational costs, and enhancing customer satisfaction.\n",
        "\n",
        "In conclusion, the bike sharing demand prediction project extracts insights through exploratory data analysis and employs supervised learning regression models to forecast rental demand accurately. The project's outcomes align with the broader goal of optimizing bike sharing operations, improving urban mobility, and promoting environmentally friendly transportation alternatives."
      ],
      "metadata": {
        "id": "F6v_1wHtG2nS"
      }
    },
    {
      "cell_type": "markdown",
      "source": [
        "# **GitHub Link -**"
      ],
      "metadata": {
        "id": "w6K7xa23Elo4"
      }
    },
    {
      "cell_type": "markdown",
      "source": [
        "https://github.com/ShivprasadSawant/bike-sharing-demand-prediction.git"
      ],
      "metadata": {
        "id": "h1o69JH3Eqqn"
      }
    },
    {
      "cell_type": "markdown",
      "source": [
        "# **Problem Statement**\n"
      ],
      "metadata": {
        "id": "yQaldy8SH6Dl"
      }
    },
    {
      "cell_type": "markdown",
      "source": [
        "**To predict bike count required for each hour for stable suppy of rental bikes also to find insights so as to optimise supply of rental bikes**"
      ],
      "metadata": {
        "id": "DpeJGUA3kjGy"
      }
    },
    {
      "cell_type": "markdown",
      "source": [
        "# **General Guidelines** : -  "
      ],
      "metadata": {
        "id": "mDgbUHAGgjLW"
      }
    },
    {
      "cell_type": "markdown",
      "source": [
        "1.   Well-structured, formatted, and commented code is required.\n",
        "2.   Exception Handling, Production Grade Code & Deployment Ready Code will be a plus. Those students will be awarded some additional credits.\n",
        "     \n",
        "     The additional credits will have advantages over other students during Star Student selection.\n",
        "       \n",
        "             [ Note: - Deployment Ready Code is defined as, the whole .ipynb notebook should be executable in one go\n",
        "                       without a single error logged. ]\n",
        "\n",
        "3.   Each and every logic should have proper comments.\n",
        "4. You may add as many number of charts you want. Make Sure for each and every chart the following format should be answered.\n",
        "        \n",
        "\n",
        "```\n",
        "# Chart visualization code\n",
        "```\n",
        "            \n",
        "\n",
        "*   Why did you pick the specific chart?\n",
        "*   What is/are the insight(s) found from the chart?\n",
        "* Will the gained insights help creating a positive business impact?\n",
        "Are there any insights that lead to negative growth? Justify with specific reason.\n",
        "\n",
        "5. You have to create at least 15 logical & meaningful charts having important insights.\n",
        "\n",
        "\n",
        "[ Hints : - Do the Vizualization in  a structured way while following \"UBM\" Rule.\n",
        "\n",
        "U - Univariate Analysis,\n",
        "\n",
        "B - Bivariate Analysis (Numerical - Categorical, Numerical - Numerical, Categorical - Categorical)\n",
        "\n",
        "M - Multivariate Analysis\n",
        " ]\n",
        "\n",
        "\n",
        "\n",
        "\n",
        "\n",
        "6. You may add more ml algorithms for model creation. Make sure for each and every algorithm, the following format should be answered.\n",
        "\n",
        "\n",
        "*   Explain the ML Model used and it's performance using Evaluation metric Score Chart.\n",
        "\n",
        "\n",
        "*   Cross- Validation & Hyperparameter Tuning\n",
        "\n",
        "*   Have you seen any improvement? Note down the improvement with updates Evaluation metric Score Chart.\n",
        "\n",
        "*   Explain each evaluation metric's indication towards business and the business impact pf the ML model used.\n",
        "\n",
        "\n",
        "\n",
        "\n",
        "\n",
        "\n",
        "\n",
        "\n",
        "\n",
        "\n",
        "\n",
        "\n",
        "\n",
        "\n",
        "\n",
        "\n",
        "\n",
        "\n"
      ],
      "metadata": {
        "id": "ZrxVaUj-hHfC"
      }
    },
    {
      "cell_type": "markdown",
      "source": [
        "# ***Let's Begin !***"
      ],
      "metadata": {
        "id": "O_i_v8NEhb9l"
      }
    },
    {
      "cell_type": "markdown",
      "source": [
        "## ***1. Know Your Data***"
      ],
      "metadata": {
        "id": "HhfV-JJviCcP"
      }
    },
    {
      "cell_type": "markdown",
      "source": [
        "### Import Libraries"
      ],
      "metadata": {
        "id": "Y3lxredqlCYt"
      }
    },
    {
      "cell_type": "code",
      "source": [
        "# Import Libraries\n",
        "import numpy as np # importing numpy library\n",
        "import pandas as pd # importing pandas library\n",
        "import matplotlib.pyplot as plt # importing matplot library for visualisations\n",
        "%matplotlib inline\n",
        "import seaborn as sns #importing seaborn library for visualisations\n",
        "import plotly.express as px #importing plotly library for visualisations\n",
        "from datetime import datetime\n",
        "from matplotlib.ticker import FormatStrFormatter # for ticks formatting\n",
        "from matplotlib_venn import venn2 # for venn diagram\n",
        "from statsmodels.stats.outliers_influence import variance_inflation_factor #required for calculating variance inflaton factor"
      ],
      "metadata": {
        "id": "M8Vqi-pPk-HR"
      },
      "execution_count": null,
      "outputs": []
    },
    {
      "cell_type": "markdown",
      "source": [
        "### Dataset Loading"
      ],
      "metadata": {
        "id": "3RnN4peoiCZX"
      }
    },
    {
      "cell_type": "code",
      "source": [
        "from google.colab import drive\n",
        "drive.mount('/content/drive',force_remount=True)"
      ],
      "metadata": {
        "id": "EcG703Ad1DKq"
      },
      "execution_count": null,
      "outputs": []
    },
    {
      "cell_type": "code",
      "source": [
        "# Load Dataset\n",
        "df=pd.read_csv('/content/drive/MyDrive/ALMA BETTER assignments/module 4 machine Learning/Supervised learning/regression project/SeoulBikeData.csv',encoding= 'unicode_escape')\n",
        "#encoding='unicode_escape' because it was giving '-utf8-codec-cant-decode-byte-0xa5-in-position-0-invalid-s' error.\n"
      ],
      "metadata": {
        "id": "4CkvbW_SlZ_R"
      },
      "execution_count": null,
      "outputs": []
    },
    {
      "cell_type": "markdown",
      "source": [
        "### Dataset First View"
      ],
      "metadata": {
        "id": "x71ZqKXriCWQ"
      }
    },
    {
      "cell_type": "code",
      "source": [
        "# Dataset First Look\n",
        "df.head(5) # reading seoul bike sharing dataframe."
      ],
      "metadata": {
        "id": "LWNFOSvLl09H"
      },
      "execution_count": null,
      "outputs": []
    },
    {
      "cell_type": "markdown",
      "source": [
        "### Dataset Rows & Columns count"
      ],
      "metadata": {
        "id": "7hBIi_osiCS2"
      }
    },
    {
      "cell_type": "code",
      "source": [
        "# Dataset Rows & Columns count\n",
        "df.shape  # It gives us a tuple of (rows,columns)"
      ],
      "metadata": {
        "id": "Kllu7SJgmLij"
      },
      "execution_count": null,
      "outputs": []
    },
    {
      "cell_type": "markdown",
      "source": [
        "### Dataset Information"
      ],
      "metadata": {
        "id": "JlHwYmJAmNHm"
      }
    },
    {
      "cell_type": "code",
      "source": [
        "# Dataset Info\n",
        "df.info()  #It gives us information about all columns ,their datatype non null rows and memory usage"
      ],
      "metadata": {
        "id": "e9hRXRi6meOf"
      },
      "execution_count": null,
      "outputs": []
    },
    {
      "cell_type": "markdown",
      "source": [
        "#### Duplicate Values"
      ],
      "metadata": {
        "id": "35m5QtbWiB9F"
      }
    },
    {
      "cell_type": "code",
      "source": [
        "# Dataset Duplicate Value Count\n",
        "len(df[df.duplicated()])"
      ],
      "metadata": {
        "id": "1sLdpKYkmox0"
      },
      "execution_count": null,
      "outputs": []
    },
    {
      "cell_type": "markdown",
      "source": [
        "#### Missing Values/Null Values"
      ],
      "metadata": {
        "id": "PoPl-ycgm1ru"
      }
    },
    {
      "cell_type": "code",
      "source": [
        "# Missing Values/Null Values Count\n",
        "df.isnull().sum() #sum of all non null column values"
      ],
      "metadata": {
        "id": "GgHWkxvamxVg"
      },
      "execution_count": null,
      "outputs": []
    },
    {
      "cell_type": "code",
      "source": [
        "# Visualizing the missing values\n",
        "null_visualisation=df.isnull().sum()\n",
        "null_visualisation.plot(kind='bar')\n",
        "\n",
        "# No null values so plot is empty"
      ],
      "metadata": {
        "id": "3q5wnI3om9sJ"
      },
      "execution_count": null,
      "outputs": []
    },
    {
      "cell_type": "markdown",
      "source": [
        "### What did you know about your dataset?"
      ],
      "metadata": {
        "id": "H0kj-8xxnORC"
      }
    },
    {
      "cell_type": "markdown",
      "source": [
        "* The dataset has 8760 rows and 14 columns .\n",
        "* There are no null values in the dataset as well as there are no duplicate rows.\n",
        "* Most of the columns in the dataset are in their correct data type format.Except Date which is in object format.\n",
        "* It has 4 columns of object data type and ten columns are numerical.\n",
        "* Ploted representation of null values shows that there are no null values and data is gathered correctly."
      ],
      "metadata": {
        "id": "gfoNAAC-nUe_"
      }
    },
    {
      "cell_type": "markdown",
      "source": [
        "## ***2. Understanding Your Variables***"
      ],
      "metadata": {
        "id": "nA9Y7ga8ng1Z"
      }
    },
    {
      "cell_type": "code",
      "source": [
        "# Dataset Columns\n",
        "df.columns"
      ],
      "metadata": {
        "id": "j7xfkqrt5Ag5"
      },
      "execution_count": null,
      "outputs": []
    },
    {
      "cell_type": "code",
      "source": [
        "# Dataset Describe\n",
        "df.describe() #This gives values of all numerical colummns in the dataset."
      ],
      "metadata": {
        "id": "DnOaZdaE5Q5t"
      },
      "execution_count": null,
      "outputs": []
    },
    {
      "cell_type": "markdown",
      "source": [
        "### Variables Description"
      ],
      "metadata": {
        "id": "PBTbrJXOngz2"
      }
    },
    {
      "cell_type": "markdown",
      "source": [
        "**Date-** Date on which the observation was taken.\n",
        "\n",
        "**Rented Bike Count-** Number of bikes rented on that day.\n",
        "\n",
        "**Hour-** Hour of he day in 24 hour clock.\n",
        "\n",
        "**Temperature($^\\circ$ C)-** Temperature in degree celcius.\n",
        "\n",
        "**Humidity(%)-**Humdity in percentage.\n",
        "\n",
        "**Wind Speed(m/s)-** Windspeed in meters per second.\n",
        "\n",
        "**Visibility-** Measure of visibility.\n",
        "\n",
        "**Dew Point Temperature-**The temperature the air needs to be cooled to (at constant pressure) in order to achieve a relative humidity (RH) of 100%.\n",
        "\n",
        "**Solar Radition(MJ/m2)-**Solar Radition in Megajoules per meter square.\n",
        "\n",
        "**Rainfall-** mm depth of rain that one meter square of land had received.\n",
        "\n",
        "**Snowfall-**measure of snowfall.\n",
        "\n",
        "**Seasons-** summer,spring,fall,winter four seasons of the year.\n",
        "\n",
        "**Holiday-** whether its a hoilday for the people of seoul or not.\n",
        "\n",
        "**Functional day-** whether bike renting is working or not."
      ],
      "metadata": {
        "id": "aJV4KIxSnxay"
      }
    },
    {
      "cell_type": "markdown",
      "source": [
        "### Check Unique Values for each variable."
      ],
      "metadata": {
        "id": "u3PMJOP6ngxN"
      }
    },
    {
      "cell_type": "code",
      "source": [
        "# Check Unique Values for each variable.\n",
        "df['Date'].unique()"
      ],
      "metadata": {
        "id": "zms12Yq5n-jE"
      },
      "execution_count": null,
      "outputs": []
    },
    {
      "cell_type": "code",
      "source": [
        "df['Rented Bike Count'].unique()"
      ],
      "metadata": {
        "id": "_05LG6gJ9-9S"
      },
      "execution_count": null,
      "outputs": []
    },
    {
      "cell_type": "code",
      "source": [
        "df['Hour'].unique()"
      ],
      "metadata": {
        "id": "CSl9A4mackVd"
      },
      "execution_count": null,
      "outputs": []
    },
    {
      "cell_type": "code",
      "source": [
        "df['Temperature(°C)'].unique()"
      ],
      "metadata": {
        "id": "CCMwYxmBcuGT"
      },
      "execution_count": null,
      "outputs": []
    },
    {
      "cell_type": "code",
      "source": [
        "df['Humidity(%)'].unique()"
      ],
      "metadata": {
        "id": "_M5TdQ1QdiX4"
      },
      "execution_count": null,
      "outputs": []
    },
    {
      "cell_type": "code",
      "source": [
        "df['Wind speed (m/s)'].unique()"
      ],
      "metadata": {
        "id": "cy4UsTq2dmbl"
      },
      "execution_count": null,
      "outputs": []
    },
    {
      "cell_type": "code",
      "source": [
        "df['Visibility (10m)'].unique()"
      ],
      "metadata": {
        "id": "UgrhbbqLd7oX"
      },
      "execution_count": null,
      "outputs": []
    },
    {
      "cell_type": "code",
      "source": [
        "df['Dew point temperature(°C)'].unique()"
      ],
      "metadata": {
        "id": "IV-_1LJeeAg3"
      },
      "execution_count": null,
      "outputs": []
    },
    {
      "cell_type": "code",
      "source": [
        "df['Solar Radiation (MJ/m2)'].unique()"
      ],
      "metadata": {
        "id": "yKJZ6mzEeM1u"
      },
      "execution_count": null,
      "outputs": []
    },
    {
      "cell_type": "code",
      "source": [
        "df['Rainfall(mm)'].unique()"
      ],
      "metadata": {
        "id": "7yq2ZVrgeRTw"
      },
      "execution_count": null,
      "outputs": []
    },
    {
      "cell_type": "code",
      "source": [
        "df['Snowfall (cm)'].unique()"
      ],
      "metadata": {
        "id": "7JAkj2Ioed_x"
      },
      "execution_count": null,
      "outputs": []
    },
    {
      "cell_type": "code",
      "source": [
        "df['Seasons'].unique()"
      ],
      "metadata": {
        "id": "yD_W1U70etGk"
      },
      "execution_count": null,
      "outputs": []
    },
    {
      "cell_type": "code",
      "source": [
        "df['Holiday'].unique()"
      ],
      "metadata": {
        "id": "ScroYCw7e8z2"
      },
      "execution_count": null,
      "outputs": []
    },
    {
      "cell_type": "code",
      "source": [
        "df['Functioning Day'].unique()"
      ],
      "metadata": {
        "id": "CxwlRQdTfObo"
      },
      "execution_count": null,
      "outputs": []
    },
    {
      "cell_type": "markdown",
      "source": [
        "## 3. ***Data Wrangling***"
      ],
      "metadata": {
        "id": "dauF4eBmngu3"
      }
    },
    {
      "cell_type": "markdown",
      "source": [
        "### Data Wrangling Code"
      ],
      "metadata": {
        "id": "bKJF3rekwFvQ"
      }
    },
    {
      "cell_type": "markdown",
      "source": [
        "making a copy of dataframe"
      ],
      "metadata": {
        "id": "31AAPT1zWFqW"
      }
    },
    {
      "cell_type": "code",
      "source": [
        "# Write your code to make your dataset analysis ready.\n",
        "df1=df.copy() # to avoid copy warning and keep the orignal dataset intact for comparison"
      ],
      "metadata": {
        "id": "wk-9a2fpoLcV"
      },
      "execution_count": null,
      "outputs": []
    },
    {
      "cell_type": "markdown",
      "source": [
        "converting object data into datetime data"
      ],
      "metadata": {
        "id": "Z84V2uFkWLuF"
      }
    },
    {
      "cell_type": "code",
      "source": [
        "df1['Date']=pd.to_datetime(df1['Date'],format='%d/%m/%Y') #converted object data type into datetime data type."
      ],
      "metadata": {
        "id": "LaZYPhOXBJB_"
      },
      "execution_count": null,
      "outputs": []
    },
    {
      "cell_type": "markdown",
      "source": [
        "checking if here is any  gap within date column and hence checking if it is continuous"
      ],
      "metadata": {
        "id": "Yii3PeSGWZMK"
      }
    },
    {
      "cell_type": "code",
      "source": [
        "#checking if there is any gap in date\n",
        "df1['gap']=df1['Date'].sort_values().diff()>pd.to_timedelta('1 day')\n",
        "df1.loc[df1['gap']=='True',['gap']].count()"
      ],
      "metadata": {
        "id": "uLrjOKMaFp57"
      },
      "execution_count": null,
      "outputs": []
    },
    {
      "cell_type": "code",
      "source": [
        "#This shows that there is no gap in dates,so we can say that dates are continuous from 2017-12-01 to 2018-11-30 hence now dropping gap column.\n",
        "df1=df1.drop(['gap'],axis=1)\n",
        "df1.head(1) # shows that gap column has been dropped"
      ],
      "metadata": {
        "id": "lykK3LbrjWPx"
      },
      "execution_count": null,
      "outputs": []
    },
    {
      "cell_type": "markdown",
      "source": [
        "Here we checking if there is any there is any error in data in holiday and functioning day column"
      ],
      "metadata": {
        "id": "lkV2ZeSgVlDP"
      }
    },
    {
      "cell_type": "code",
      "source": [
        "#Checking if there is any day where it is a functioning day and it is a Holiday in the country\n",
        "df_holiday_but_fuctioning=df1.loc[(df1['Holiday']=='Holiday') & (df1['Functioning Day']=='Yes')]\n",
        "df_holiday_but_fuctioning['Date'].value_counts().count()\n",
        "\n",
        "#this means out of 18 days of holiday in the country 17 days are such that bike renting is working."
      ],
      "metadata": {
        "id": "E-RyiAfpmGZy"
      },
      "execution_count": null,
      "outputs": []
    },
    {
      "cell_type": "code",
      "source": [
        "#checking number of days when bike rental is off\n",
        "df_off_bike_renting=df1.loc[(df1['Functioning Day']=='No')]\n",
        "df_off_bike_renting['Date'].value_counts().count()\n",
        "\n",
        "#this means there are total 13 days in 12 months where bike renting is off.Out of which there is only one day where bike renting is off but its a nationwide holiday."
      ],
      "metadata": {
        "id": "SOIGs7IqG4Zk"
      },
      "execution_count": null,
      "outputs": []
    },
    {
      "cell_type": "code",
      "source": [
        "#Checking if there is any day where its not a functioning day and its not a holiday\n",
        "df_notholiday_but_notfunctioning=df1.loc[(df1['Holiday']=='No Holiday')&(df['Functioning Day']=='No')]\n",
        "df_notholiday_but_notfunctioning['Date'].value_counts().count()\n",
        "\n",
        "#this means there are total 12 days such that its not a holiday for people but its a holiday for bike renting organisation."
      ],
      "metadata": {
        "id": "lpnQSc34GXQu"
      },
      "execution_count": null,
      "outputs": []
    },
    {
      "cell_type": "code",
      "source": [
        "#The data in hoilday and functioning column is correct , following is the insight found in the process.\n",
        "venn2(subsets=(17,12,1),set_labels=('Holiday for people','Holiday for bike renting organisation'))\n",
        "plt.title('Holiday in Seoul');"
      ],
      "metadata": {
        "id": "MgIvpQMQs-v8"
      },
      "execution_count": null,
      "outputs": []
    },
    {
      "cell_type": "markdown",
      "source": [
        "checking for outliers"
      ],
      "metadata": {
        "id": "wE5qwxf8X5e7"
      }
    },
    {
      "cell_type": "code",
      "source": [
        "# We have checked date in above columns and it has no outliers.\n",
        "# Columns like holiday, functioning day,Seasons, Hours have unique values which are not outliers.\n",
        "# 9 columns need to be checked for outliers\n",
        "\n",
        "fig,((ax1,ax2,ax3),(ax4,ax5,ax6),(ax7,ax8,ax9)) = plt.subplots(3,3)\n",
        "df1['Temperature(°C)'].plot(ax=ax1,kind='box',figsize=(12,12))\n",
        "ax1.set_ylabel('temperature in degree celsius')\n",
        "ax1.set_title('Outliers in temperature')\n",
        "\n",
        "df1['Humidity(%)'].plot(ax=ax2,kind='box')\n",
        "ax2.set_ylabel('humidity in percentage')\n",
        "ax2.set_title('Outliers in humidty')\n",
        "\n",
        "df1['Wind speed (m/s)'].plot(ax=ax3,kind='box')\n",
        "ax3.set_ylabel('windspeed in meters per second')\n",
        "ax3.set_title('Outliers in windspeed')\n",
        "\n",
        "df1['Visibility (10m)'].plot(ax=ax4,kind='box')\n",
        "ax4.set_ylabel('visibility (10m)')\n",
        "ax4.set_title('Outliers in visibility')\n",
        "\n",
        "df1['Dew point temperature(°C)'].plot(ax=ax5,kind='box')\n",
        "ax5.set_ylabel('Dew point temperature(°C)')\n",
        "ax5.set_title('outliers in dew point temperature')\n",
        "\n",
        "df1['Solar Radiation (MJ/m2)'].plot(ax=ax6,kind='box')\n",
        "ax6.set_ylabel('Solar Radiation (MJ/m2)')\n",
        "ax6.set_title('outliers in solar radiation')\n",
        "\n",
        "df1['Rainfall(mm)'].plot(ax=ax7,kind='box')\n",
        "ax7.set_ylabel('Rainfall(mm)')\n",
        "ax7.set_title('outliers in rainfall')\n",
        "\n",
        "df1['Snowfall (cm)'].plot(ax=ax8,kind='box')\n",
        "ax8.set_ylabel('snowfall(cm)')\n",
        "ax8.set_title('outliers in snowfall')\n",
        "\n",
        "df1['Rented Bike Count'].plot(ax=ax9,kind='box')\n",
        "ax9.set_ylabel('number of bike count')\n",
        "ax9.set_title('rented bike count')\n",
        "fig.tight_layout()"
      ],
      "metadata": {
        "id": "pT_CV80dL6k8"
      },
      "execution_count": null,
      "outputs": []
    },
    {
      "cell_type": "code",
      "source": [
        "#columns like wind speed ,solar radition, rainfall, snowfall and rented bike count seem to have outliers and we need to evaluate them\n",
        "df1.loc[df1['Wind speed (m/s)']>4,'Wind speed (m/s)'].sort_values().unique() # greater than 4 because it approximately falls out of IQR"
      ],
      "metadata": {
        "id": "ZIGxDvE040CO"
      },
      "execution_count": null,
      "outputs": []
    },
    {
      "cell_type": "code",
      "source": [
        "df1.loc[df1['Solar Radiation (MJ/m2)']>2.0,'Solar Radiation (MJ/m2)'].sort_values().unique() # greater than 2 because it approximately falls out of IQR (according to box plot)"
      ],
      "metadata": {
        "id": "6s-aNMvQZG9Y"
      },
      "execution_count": null,
      "outputs": []
    },
    {
      "cell_type": "code",
      "source": [
        "df1.loc[df1['Rainfall(mm)']>0,'Rainfall(mm)'].sort_values().unique()"
      ],
      "metadata": {
        "id": "k85xi6mzlg90"
      },
      "execution_count": null,
      "outputs": []
    },
    {
      "cell_type": "code",
      "source": [
        "df1.loc[df1['Snowfall (cm)']>0,'Snowfall (cm)'].sort_values().unique()"
      ],
      "metadata": {
        "id": "pTN1MjFnmtuV"
      },
      "execution_count": null,
      "outputs": []
    },
    {
      "cell_type": "code",
      "source": [
        "df1.loc[df1['Rented Bike Count']>2300,'Rented Bike Count'].sort_values().unique() #greater than 2300 because it approximately lies outside IQR (according to box plot)"
      ],
      "metadata": {
        "id": "0eFngoBPmzhM"
      },
      "execution_count": null,
      "outputs": []
    },
    {
      "cell_type": "code",
      "source": [
        "# looking at the above values which are outliers ,we can see that the values are not typing errors(data entry errors) but these are the values which are possible.\n",
        "# hence we are keeping them in the data"
      ],
      "metadata": {
        "id": "EA4ct0yeoMxo"
      },
      "execution_count": null,
      "outputs": []
    },
    {
      "cell_type": "markdown",
      "source": [
        "### What all manipulations have you done and insights you found?"
      ],
      "metadata": {
        "id": "YCp2K1fSqDH2"
      }
    },
    {
      "cell_type": "markdown",
      "source": [
        "* Made a copy of dataframe so that the original 'df' remains unchanged and it would be easy to compare the modified and original dataframe if required during the course of project.\n",
        "* Converted date column which was in object data type to datetime data type.\n",
        "* Checked if there was any gap within date column, it was found that the date column was continous from '2017-12-01' to '2018-11-30'. It counts to total 365 days.\n",
        "* Checked if there is any mismatch in data within 'holidays' and 'functioning day',there was no error as such in the data. Found some insight on the holidays in seoul which was displayed in venn diagram.\n",
        "* Checked for outliers in all columns using box plot, some columns like wind speed ,solar radition, rainfall, snowfall and rented bike count had outliers. Inspected unique elements of these columns outside of IQR range and found that the data dosent have any data entry error also it lies within the field of our study. So didnt modify or drop it."
      ],
      "metadata": {
        "id": "3MaX5xBSqG3f"
      }
    },
    {
      "cell_type": "markdown",
      "source": [
        "## ***4. Data Vizualization, Storytelling & Experimenting with charts : Understand the relationships between variables***"
      ],
      "metadata": {
        "id": "GF8Ens_Soomf"
      }
    },
    {
      "cell_type": "markdown",
      "source": [
        "From the data we have understood that\n",
        "* Rented Bike count is the output we have got from the public or from the users.\n",
        "* We have three columns Date, Hour, Seasons which define time in a way.\n",
        "* Columns like Holiday and Functioning Day represent holiday for users and for the bike renting organisation.\n",
        "* All the other columns like Temperature, humidity,wind speed, visibility, dew point temperature, solar radiation, rainfall, snowfall are the environmental factors that might affect bike renting.\n",
        "\n",
        "In the following charts we have tried to deduce insights that have affected bike renting and also insights about specific environmental conditions that might help bike renting."
      ],
      "metadata": {
        "id": "diHZyUW8Qguz"
      }
    },
    {
      "cell_type": "markdown",
      "source": [
        "#### Chart - 1 - Daywise/Seasonwise Rented bike count line/bar chart (Bivariate)\n",
        "\n",
        "\n"
      ],
      "metadata": {
        "id": "0wOQAZs5pc--"
      }
    },
    {
      "cell_type": "code",
      "source": [
        "# Chart - 1 visualization code\n",
        "df2=df1.loc[:,['Date','Rented Bike Count']]\n",
        "fig,((ax1),(ax2))=plt.subplots(2,1)\n",
        "df2.groupby('Date').sum().plot(kind='line',ax=ax1,figsize=(15,8),color='black')# groupby on date\n",
        "ax1.set_ylabel('Rented Bike Count')\n",
        "ax1.set_xlabel('Date')\n",
        "ax1.set_title('Daywise Rented Bike Count')\n",
        "\n",
        "df3=df1.loc[:,['Seasons','Rented Bike Count']]\n",
        "df3.groupby('Seasons').sum().plot(kind='bar',ax=ax2)# groupby on seasons\n",
        "ax2.set_ylabel('Rented Bike Count')\n",
        "ax2.set_xlabel('Seasons')\n",
        "ax2.set_title('Seasonwise Rented Bike Count')\n",
        "ax2.yaxis.set_major_formatter(FormatStrFormatter('%.2f'))# in second plot yaxis was in 10 to the power format so converted that into number format.\n",
        "fig.tight_layout()# to maintain a proper gap within two plots"
      ],
      "metadata": {
        "id": "7v_ESjsspbW7"
      },
      "execution_count": null,
      "outputs": []
    },
    {
      "cell_type": "markdown",
      "source": [
        "##### 1. Why did you pick the specific chart?"
      ],
      "metadata": {
        "id": "K5QZ13OEpz2H"
      }
    },
    {
      "cell_type": "markdown",
      "source": [
        "* The trends were needed to be seen ,the data was continuous over date column.\n",
        "* Each day has one value so no need of scatter plot also too many bars would have made the data look too complex.\n",
        "* In the second plot we had bivariate categorical data with four columns or 4 catergories hence bar chart makes the best choice."
      ],
      "metadata": {
        "id": "XESiWehPqBRc"
      }
    },
    {
      "cell_type": "markdown",
      "source": [
        "##### 2. What is/are the insight(s) found from the chart?"
      ],
      "metadata": {
        "id": "lQ7QKXXCp7Bj"
      }
    },
    {
      "cell_type": "markdown",
      "source": [
        "* Bike renting peaks in the month of june/july and september/october.\n",
        "* The days where bike renting count is zero (lower spikes in plot) are the days where its a holiday for bike renting organisation.\n",
        "* In the second plot bike renting is highest in summer season and lowest in winter season."
      ],
      "metadata": {
        "id": "C_j1G7yiqdRP"
      }
    },
    {
      "cell_type": "markdown",
      "source": [
        "##### 3. Will the gained insights help creating a positive business impact?\n",
        "Are there any insights that lead to negative growth? Justify with specific reason."
      ],
      "metadata": {
        "id": "448CDAPjqfQr"
      }
    },
    {
      "cell_type": "markdown",
      "source": [
        "* The days where bike renting is off should mostly be in winters and minimum days should be off in summers."
      ],
      "metadata": {
        "id": "3cspy4FjqxJW"
      }
    },
    {
      "cell_type": "markdown",
      "source": [
        "#### Chart - 2 - Hourly Rented bike count (Bivariate)"
      ],
      "metadata": {
        "id": "KSlN3yHqYklG"
      }
    },
    {
      "cell_type": "code",
      "source": [
        "# Chart - 2 visualization code\n",
        "df4=df1.loc[:,['Hour','Rented Bike Count']]\n",
        "fig,(ax)=plt.subplots()\n",
        "df4.groupby('Hour').sum().plot(kind='bar',ax=ax)\n",
        "ax.set_xlabel('Hour of the day')\n",
        "ax.set_ylabel('Rented bike count')\n",
        "ax.set_title('Hourly rented bike count')\n",
        "plt.grid()"
      ],
      "metadata": {
        "id": "R4YgtaqtYklH"
      },
      "execution_count": null,
      "outputs": []
    },
    {
      "cell_type": "markdown",
      "source": [
        "##### 1. Why did you pick the specific chart?"
      ],
      "metadata": {
        "id": "t6dVpIINYklI"
      }
    },
    {
      "cell_type": "markdown",
      "source": [
        "* The data was bivariate and categorical.\n",
        "* Bar chart was the best option."
      ],
      "metadata": {
        "id": "5aaW0BYyYklI"
      }
    },
    {
      "cell_type": "markdown",
      "source": [
        "##### 2. What is/are the insight(s) found from the chart?"
      ],
      "metadata": {
        "id": "ijmpgYnKYklI"
      }
    },
    {
      "cell_type": "markdown",
      "source": [
        "* Bike renting is least in the wee hours from 12 am to 6 am in the morning as the people might be sleeping.\n",
        "* Bike renting increases after 7am upto 8am maybe people gowing to officies, schools, colleges etc.\n",
        "* Bike renting again increses from 5pm to 7pm this might be because of people coming back to their homes."
      ],
      "metadata": {
        "id": "PSx9atu2YklI"
      }
    },
    {
      "cell_type": "markdown",
      "source": [
        "##### 3. Will the gained insights help creating a positive business impact?\n",
        "Are there any insights that lead to negative growth? Justify with specific reason."
      ],
      "metadata": {
        "id": "-JiQyfWJYklI"
      }
    },
    {
      "cell_type": "markdown",
      "source": [
        "* Busy hours like 7am to 9am and 5pm to 7pm should have the maxmium avaliabiltiy of renting bikes.\n",
        "* Minimum bikes are required during 12 am to 6 am, so any maintainance activity can be done during this time."
      ],
      "metadata": {
        "id": "BcBbebzrYklV"
      }
    },
    {
      "cell_type": "markdown",
      "source": [
        "#### Chart - 3 - Daywise temperature/Bike renting count (Multivariate)"
      ],
      "metadata": {
        "id": "EM7whBJCYoAo"
      }
    },
    {
      "cell_type": "code",
      "source": [
        "# Chart - 3 visualization code\n",
        "df5=df1.loc[:,['Date','Temperature(°C)']]\n",
        "df6=df1.loc[:,['Date','Rented Bike Count']]\n",
        "fig,(ax1)=plt.subplots()\n",
        "df5.groupby('Date').mean('Temperature(°C)').plot(ax=ax1,kind='line',figsize=(17,5),color='tab:red')\n",
        "ax1.set_ylabel('temperature in degree celsius',color='tab:red')\n",
        "ax1.set_title('Daywise mean temperature with rented bike count')\n",
        "ax1.tick_params(axis='y',labelcolor='tab:red')\n",
        "\n",
        "ax2=ax1.twinx() # instantiate a second y axes that shares the same x-axis\n",
        "df6.groupby('Date').sum('Rented Bike Count').plot(ax=ax2,kind='line',color='tab:green')\n",
        "plt.grid()"
      ],
      "metadata": {
        "id": "t6GMdE67YoAp"
      },
      "execution_count": null,
      "outputs": []
    },
    {
      "cell_type": "markdown",
      "source": [
        "##### 1. Why did you pick the specific chart?"
      ],
      "metadata": {
        "id": "fge-S5ZAYoAp"
      }
    },
    {
      "cell_type": "markdown",
      "source": [
        "* Required to see trends in data and it was a time series data,so using line chart was the best choice."
      ],
      "metadata": {
        "id": "5dBItgRVYoAp"
      }
    },
    {
      "cell_type": "markdown",
      "source": [
        "##### 2. What is/are the insight(s) found from the chart?"
      ],
      "metadata": {
        "id": "85gYPyotYoAp"
      }
    },
    {
      "cell_type": "markdown",
      "source": [
        "* Rented bike count are in proportion with temperature, as the temperature increases bike renting also increases and vice-a-versa.\n",
        "*Except the region between july to september chart is proportional."
      ],
      "metadata": {
        "id": "4jstXR6OYoAp"
      }
    },
    {
      "cell_type": "markdown",
      "source": [
        "##### 3. Will the gained insights help creating a positive business impact?\n",
        "Are there any insights that lead to negative growth? Justify with specific reason."
      ],
      "metadata": {
        "id": "RoGjAbkUYoAp"
      }
    },
    {
      "cell_type": "markdown",
      "source": [
        "* People tend to commute more during warmer temperatures ,so accidental snowfall may reduce bike renting and accidental sunny day may increase bike renting.\n",
        "*During snowfall people dont prefer bikes they might prefer other modes of transport or are not stepping out of their houses."
      ],
      "metadata": {
        "id": "zfJ8IqMcYoAp"
      }
    },
    {
      "cell_type": "markdown",
      "source": [
        "#### Chart - 4 - Frequency Distribution of Rented Bike count (Univariate)"
      ],
      "metadata": {
        "id": "4Of9eVA-YrdM"
      }
    },
    {
      "cell_type": "code",
      "source": [
        "# Chart - 4 visualization code\n",
        "fig,ax=plt.subplots()\n",
        "df7=df1.loc[:,['Rented Bike Count']]\n",
        "df7.plot(kind='hist',ax=ax,bins=70,color='tab:green')# 70 bins so that one bin means 0 to 50 and so on.\n",
        "ax.set_xlabel('Rented bike count per hour')\n",
        "ax.set_title('Frequnecy Distribution of rented bike count')\n",
        "\n",
        "plt.axvline(df1['Rented Bike Count'].copy().median(), color='k', linestyle='dashed', linewidth=1) #this axvline is for drawing the median line\n",
        "min_ylim, max_ylim = plt.ylim()\n",
        "plt.text(df1['Rented Bike Count'].copy().median()*1.1, max_ylim*0.9, 'Median: {:.2f}'.format(df1['Rented Bike Count'].copy().median()))\n",
        "\n",
        "plt.axvline(df1['Rented Bike Count'].copy().mean(), color='k', linestyle='dashed', linewidth=1) #this axvline is for drawing the mean line\n",
        "min_ylim, max_ylim = plt.ylim()\n",
        "plt.text(df1['Rented Bike Count'].copy().mean()*1.1, max_ylim*0.7, 'Mean: {:.2f}'.format(df1['Rented Bike Count'].copy().mean()));"
      ],
      "metadata": {
        "id": "irlUoxc8YrdO"
      },
      "execution_count": null,
      "outputs": []
    },
    {
      "cell_type": "markdown",
      "source": [
        "##### 1. Why did you pick the specific chart?"
      ],
      "metadata": {
        "id": "iky9q4vBYrdO"
      }
    },
    {
      "cell_type": "markdown",
      "source": [
        "* The data was univariate and it was required to see the frequency distribution of the data, so histogram was the best choice."
      ],
      "metadata": {
        "id": "aJRCwT6DYrdO"
      }
    },
    {
      "cell_type": "markdown",
      "source": [
        "##### 2. What is/are the insight(s) found from the chart?"
      ],
      "metadata": {
        "id": "F6T5p64dYrdO"
      }
    },
    {
      "cell_type": "markdown",
      "source": [
        "* The data is positively skewed.\n",
        "* Most frequently occuring rented bike per count is bin from zero to 50.\n",
        "* Rented Bike Count has a mean of 704.6 and a median of 504.50 , So we can say that on an average 500 to 700 bikes are needed per hour.\n"
      ],
      "metadata": {
        "id": "Xx8WAJvtYrdO"
      }
    },
    {
      "cell_type": "markdown",
      "source": [
        "##### 3. Will the gained insights help creating a positive business impact?\n",
        "Are there any insights that lead to negative growth? Justify with specific reason."
      ],
      "metadata": {
        "id": "y-Ehk30pYrdP"
      }
    },
    {
      "cell_type": "markdown",
      "source": [
        "* 700 bikes are required at the minimum at any hour for smooth operation.\n",
        "* 75% percentile of bike count lie below 1100, 1100 bikes will suffice most of the requirements.\n",
        "* There are some hours where requirement has gone upto 3556 bikes an hour this requirement can be fulfilled by using a bike thrice or doing some alternative arrangement."
      ],
      "metadata": {
        "id": "jLNxxz7MYrdP"
      }
    },
    {
      "cell_type": "markdown",
      "source": [
        "#### Chart - 5 - Seasonwise Rainfall Distribution (Bivariate)"
      ],
      "metadata": {
        "id": "bamQiAODYuh1"
      }
    },
    {
      "cell_type": "code",
      "source": [
        "# Chart - 5 visualization code\n",
        "df8=df1.loc[:,['Seasons','Rainfall(mm)']]\n",
        "fig,(ax)=plt.subplots()\n",
        "df8.groupby('Seasons').sum('Rainfall(mm)').plot(kind='pie',figsize=(15,8),ax=ax,x='Seasons', y='Rainfall(mm)',startangle=45,autopct='%1.1f%%') #Sum() gives us total summation of rainfall over the season.\n",
        "ax.set_title('Seasonwise rainfall')"
      ],
      "metadata": {
        "id": "TIJwrbroYuh3"
      },
      "execution_count": null,
      "outputs": []
    },
    {
      "cell_type": "markdown",
      "source": [
        "##### 1. Why did you pick the specific chart?"
      ],
      "metadata": {
        "id": "QHF8YVU7Yuh3"
      }
    },
    {
      "cell_type": "markdown",
      "source": [
        "* Only four categorical values to be compared and percentages were needed to be seen so pie chart was the best option."
      ],
      "metadata": {
        "id": "dcxuIMRPYuh3"
      }
    },
    {
      "cell_type": "markdown",
      "source": [
        "##### 2. What is/are the insight(s) found from the chart?"
      ],
      "metadata": {
        "id": "GwzvFGzlYuh3"
      }
    },
    {
      "cell_type": "markdown",
      "source": [
        "* Rainfall is distributed all year long, 43% of rainfall is in summer and 31% in spring ,total 74%.\n",
        "* Autumn and Winter together contribute to only 26% of the rainfall."
      ],
      "metadata": {
        "id": "uyqkiB8YYuh3"
      }
    },
    {
      "cell_type": "markdown",
      "source": [
        "##### 3. Will the gained insights help creating a positive business impact?\n",
        "Are there any insights that lead to negative growth? Justify with specific reason."
      ],
      "metadata": {
        "id": "qYpmQ266Yuh3"
      }
    },
    {
      "cell_type": "markdown",
      "source": [
        "* It rains mostly in summer and spring but its advisable to keep raincoat all year round."
      ],
      "metadata": {
        "id": "_WtzZ_hCYuh4"
      }
    },
    {
      "cell_type": "markdown",
      "source": [
        "#### Chart - 6 -Seasonwise Snowfall Distribution (Bivariate)"
      ],
      "metadata": {
        "id": "OH-pJp9IphqM"
      }
    },
    {
      "cell_type": "code",
      "source": [
        "# Chart - 6 visualization code\n",
        "df9=df1.loc[:,['Seasons','Snowfall (cm)']]\n",
        "fig,(ax)=plt.subplots()\n",
        "df9.groupby('Seasons').sum('Snowfall (cm)').plot(kind='pie',figsize=(15,8),ax=ax,x='Seasons', y='Snowfall (cm)',startangle=45,autopct='%1.1f%%')\n",
        "ax.set_title('Seasonwise snowfall')"
      ],
      "metadata": {
        "id": "kuRf4wtuphqN"
      },
      "execution_count": null,
      "outputs": []
    },
    {
      "cell_type": "markdown",
      "source": [
        "##### 1. Why did you pick the specific chart?"
      ],
      "metadata": {
        "id": "bbFf2-_FphqN"
      }
    },
    {
      "cell_type": "markdown",
      "source": [
        "* Only four categorical values to be compared and percentages were needed to be seen so pie chart was the best option."
      ],
      "metadata": {
        "id": "loh7H2nzphqN"
      }
    },
    {
      "cell_type": "markdown",
      "source": [
        "##### 2. What is/are the insight(s) found from the chart?"
      ],
      "metadata": {
        "id": "_ouA3fa0phqN"
      }
    },
    {
      "cell_type": "markdown",
      "source": [
        "* 81.3% of the snowfall happens in winter and remaining 18.7% snowfall in autumn.\n",
        "* There are not even accidental or slight snowfalls in spring and summer."
      ],
      "metadata": {
        "id": "VECbqPI7phqN"
      }
    },
    {
      "cell_type": "markdown",
      "source": [
        "##### 3. Will the gained insights help creating a positive business impact?\n",
        "Are there any insights that lead to negative growth? Justify with specific reason."
      ],
      "metadata": {
        "id": "Seke61FWphqN"
      }
    },
    {
      "cell_type": "markdown",
      "source": [
        "* Bike should have good gripping tyres, fuel need to be added with antifreeze element during winter and autumn.\n",
        "* Also winter clothing is needed during this two seasons."
      ],
      "metadata": {
        "id": "DW4_bGpfphqN"
      }
    },
    {
      "cell_type": "markdown",
      "source": [
        "#### Chart - 7 - Rented Bike count versus Humidity(%) (Bivariate)"
      ],
      "metadata": {
        "id": "PIIx-8_IphqN"
      }
    },
    {
      "cell_type": "code",
      "source": [
        "# Chart - 7 visualization code\n",
        "df10=df1.loc[:,['Rented Bike Count','Humidity(%)']]\n",
        "fig,ax=plt.subplots(1,2)\n",
        "df10.groupby('Humidity(%)').median('Rented Bike Count').plot(kind='line',ax=ax[0],figsize=(10,5))\n",
        "ax[0].xaxis.set_ticks(np.arange(0,110,10));\n",
        "\n",
        "df11=df1.loc[:,'Humidity(%)']\n",
        "df11.plot(kind='hist',ax=ax[1],bins=10)\n",
        "ax[1].xaxis.set_ticks(np.arange(0,110,10));\n",
        "ax[1].yaxis.set_ticks(np.arange(0,1600,100))\n",
        "ax[1].set_xlabel('Humidity (%)')\n",
        "fig.tight_layout()"
      ],
      "metadata": {
        "id": "lqAIGUfyphqO"
      },
      "execution_count": null,
      "outputs": []
    },
    {
      "cell_type": "markdown",
      "source": [
        "##### 1. Why did you pick the specific chart?"
      ],
      "metadata": {
        "id": "t27r6nlMphqO"
      }
    },
    {
      "cell_type": "markdown",
      "source": [
        "* Trend of humidity was required to be seen and it was non categorical bivariate data so line chart was the best option.\n",
        "* Frequency distribution of points was required to be seen so histogram was the best option."
      ],
      "metadata": {
        "id": "iv6ro40sphqO"
      }
    },
    {
      "cell_type": "markdown",
      "source": [
        "##### 2. What is/are the insight(s) found from the chart?"
      ],
      "metadata": {
        "id": "r2jJGEOYphqO"
      }
    },
    {
      "cell_type": "markdown",
      "source": [
        "* Bike Count is below 750 for humidity percentages from 20% to 80%.\n",
        "* When Humidity percentages are between 0 to 20% there has been huge surge in bike renting, suprisingly there are only upto 118 points in 0% to 20% humidity category.Those data points are outliers.\n",
        "* Most of humidity(%) lies in between 20% to 95% according to histogram."
      ],
      "metadata": {
        "id": "Po6ZPi4hphqO"
      }
    },
    {
      "cell_type": "markdown",
      "source": [
        "##### 3. Will the gained insights help creating a positive business impact?\n",
        "Are there any insights that lead to negative growth? Justify with specific reason."
      ],
      "metadata": {
        "id": "b0JNsNcRphqO"
      }
    },
    {
      "cell_type": "markdown",
      "source": [
        "* 20% to 80% humidity has good bike renting average, if humidity is more than 80% bike renting is likely to go down."
      ],
      "metadata": {
        "id": "xvSq8iUTphqO"
      }
    },
    {
      "cell_type": "markdown",
      "source": [
        "#### Chart - 8 - Rented bike count versus Timeslot of the day (Multivariate)"
      ],
      "metadata": {
        "id": "BZR9WyysphqO"
      }
    },
    {
      "cell_type": "code",
      "source": [
        "# Chart - 8 visualization code\n",
        "\n",
        "# Here we need to remember that hour=0 means hour starting from 0.00 and ending at 1.00 am.\n",
        "# this function will take season and timeslot i.e(night,morning,afternoon,evening) as input and return sum of that season and that timeslot,\n",
        "# It means in order to get 'sum of bikes' for 4 seasons and 4 timeslots we need to call the function 16 times.\n",
        "def season_bike(name_of_season,slot_of_the_day):\n",
        "  if slot_of_the_day=='night':\n",
        "    a=df1.loc[(df1['Hour']>=0) & (df1['Hour']<=5) & (df1['Seasons']==name_of_season),'Rented Bike Count'] # wee hours of the night from 12 am to 6 am ,total 6 hours\n",
        "  elif slot_of_the_day=='morning':\n",
        "    a=df1.loc[(df1['Hour']>=6) & (df1['Hour']<=11) & (df1['Seasons']==name_of_season),'Rented Bike Count'] # morning hours from 6 am to 12 pm ,total ,total 6 hours\n",
        "  elif slot_of_the_day=='afternoon':\n",
        "    a=df1.loc[(df1['Hour']>=12) & (df1['Hour']<=16) & (df1['Seasons']==name_of_season),'Rented Bike Count'] # afternoon from 12 pm to 5 pm , total 5 hours\n",
        "  else:\n",
        "    a=df1.loc[(df1['Hour']>=17) & (df1['Hour']<=23) & (df1['Seasons']==name_of_season),'Rented Bike Count'] # evening from 5pm to 12 am , total 7 hours\n",
        "  return(int(a.sum()))\n",
        "\n",
        "#Instead of calling the function for 16 times, as seasons will remain same we have writen this function\n",
        "#Now we need to call this function only 4 times , previous function 'season_bike' is called in this function.\n",
        "\n",
        "def sum_for_slot(slot_of_the_day):\n",
        "  b=[]\n",
        "  for i in ['Autumn','Spring','Summer','Winter']:\n",
        "    b.append(season_bike(i,slot_of_the_day))\n",
        "  return(b)\n",
        "\n",
        "night=sum_for_slot('night') # By calling function 'sum_for_slot' a list will be assigned to night which will have 4 values wiz [night of autumn,night of spring, night of summer, night of winter]\n",
        "morning=sum_for_slot('morning') # By calling function 'sum_for_slot' a list will be assigned to morning which will have 4 values wiz [morning of autumn,morning of spring, morning of summer, morning of winter]\n",
        "afternoon=sum_for_slot('afternoon') # By calling function 'sum_for_slot' a list will be assigned to afternoon which will have 4 values wiz [afternoon of autumn,afternoon of spring, afternoon of summer,afternoon of winter]\n",
        "evening=sum_for_slot('evening') # By calling function 'sum_for_slot' a list will be assigned to evening which will have 4 values wiz [evening of autumn,evening of spring, evening of summer, evening of winter]"
      ],
      "metadata": {
        "id": "Wz8O5Gwkaar4"
      },
      "execution_count": null,
      "outputs": []
    },
    {
      "cell_type": "code",
      "source": [
        "#The above block of code is for preparing data for chart , below are the variables which are required for stacked bar plot.\n",
        "\n",
        "seeason = (\"Autumn\",\"Spring\",\"Summer\",\"Winter\") # database already contains a column season so naming this seasons as 'seeason' just to avoid any confusion.\n",
        "\n",
        "bike_counts = {\n",
        "    \"night\": np.array(night),\n",
        "    \"morning\": np.array(morning),\n",
        "    \"afternoon\":np.array(afternoon),                   # making a dictionary for stacked bar plot\n",
        "    \"evening\":np.array(evening)\n",
        "}\n",
        "\n",
        "width = 0.5\n",
        "\n",
        "fig, ax = plt.subplots()\n",
        "bottom = np.zeros(4)\n",
        "\n",
        "for boolean, bike_count in bike_counts.items():         # this loop makes it possible to build stacked bar plot one above the other\n",
        "    p = ax.bar(seeason, bike_count, width, label=boolean, bottom=bottom)\n",
        "    bottom += bike_count                #bottom is kind of base for a plot, normally it is zero but for stacked bar it needs to changed for every iteration.\n",
        "\n",
        "ax.set_title(\"Bike count according to timeslot of the day in the season\")\n",
        "ax.legend(loc=\"upper right\")\n",
        "ax.set_xlabel('Season')\n",
        "ax.set_ylabel('Sum of bike count')\n",
        "plt.show()"
      ],
      "metadata": {
        "id": "ckKD7F51sv0V"
      },
      "execution_count": null,
      "outputs": []
    },
    {
      "cell_type": "markdown",
      "source": [
        "##### 1. Why did you pick the specific chart?"
      ],
      "metadata": {
        "id": "jj7wYXLtphqO"
      }
    },
    {
      "cell_type": "markdown",
      "source": [
        "* Four seasons(4 categorical variables) were to be compared with hourly distribution of rental bikes so stacked bar chart was the best option."
      ],
      "metadata": {
        "id": "Ob8u6rCTphqO"
      }
    },
    {
      "cell_type": "markdown",
      "source": [
        "##### 2. What is/are the insight(s) found from the chart?"
      ],
      "metadata": {
        "id": "eZrbJ2SmphqO"
      }
    },
    {
      "cell_type": "markdown",
      "source": [
        "* In any season evening makes up for the most amount of bikes rented.\n",
        "* Amount of bikes rented in morning and afternoon are almost equal throughout the year except for winter.\n",
        "* Summer evenings demand most number of bikes ,winter nights have least demand."
      ],
      "metadata": {
        "id": "mZtgC_hjphqO"
      }
    },
    {
      "cell_type": "markdown",
      "source": [
        "##### 3. Will the gained insights help creating a positive business impact?\n",
        "Are there any insights that lead to negative growth? Justify with specific reason."
      ],
      "metadata": {
        "id": "rFu4xreNphqO"
      }
    },
    {
      "cell_type": "markdown",
      "source": [
        "* Number of employees required during winter are very less."
      ],
      "metadata": {
        "id": "ey_0qi68phqO"
      }
    },
    {
      "cell_type": "markdown",
      "source": [
        "#### Chart - 9 - Rented Bike Count versus Dew Point temperature (Bivariate)"
      ],
      "metadata": {
        "id": "YJ55k-q6phqO"
      }
    },
    {
      "cell_type": "code",
      "source": [
        "# Chart - 9 visualization code\n",
        "df13=df1.loc[:,['Date','Dew point temperature(°C)']]\n",
        "fig,ax=plt.subplots()\n",
        "\n",
        "df13.groupby('Date').mean('Dew point temperature(°C)').plot(ax=ax,kind='line',figsize=(10,5));"
      ],
      "metadata": {
        "id": "B2aS4O1ophqO"
      },
      "execution_count": null,
      "outputs": []
    },
    {
      "cell_type": "markdown",
      "source": [
        "##### 1. Why did you pick the specific chart?"
      ],
      "metadata": {
        "id": "gCFgpxoyphqP"
      }
    },
    {
      "cell_type": "markdown",
      "source": [
        "* Required to see trends over a period of time and the data was continuous so using line chart was the best option."
      ],
      "metadata": {
        "id": "TVxDimi2phqP"
      }
    },
    {
      "cell_type": "markdown",
      "source": [
        "##### 2. What is/are the insight(s) found from the chart?"
      ],
      "metadata": {
        "id": "OVtJsKN_phqQ"
      }
    },
    {
      "cell_type": "markdown",
      "source": [
        "* The trend in the current graph looks similar to the temperature graph.\n",
        "* There is more variation in dew point temperature in winter(december to february) and Spring(march to may).\n",
        "* Dew point temperature is highest in summers and lowest in winters."
      ],
      "metadata": {
        "id": "ngGi97qjphqQ"
      }
    },
    {
      "cell_type": "markdown",
      "source": [
        "##### 3. Will the gained insights help creating a positive business impact?\n",
        "Are there any insights that lead to negative growth? Justify with specific reason."
      ],
      "metadata": {
        "id": "lssrdh5qphqQ"
      }
    },
    {
      "cell_type": "markdown",
      "source": [
        "* Hours where dew point temperature is nearest to the tempearture of that hour , the climate will be almost humid."
      ],
      "metadata": {
        "id": "tBpY5ekJphqQ"
      }
    },
    {
      "cell_type": "markdown",
      "source": [
        "#### Chart - 10 - Hourly Visibility (Bivariate)"
      ],
      "metadata": {
        "id": "U2RJ9gkRphqQ"
      }
    },
    {
      "cell_type": "code",
      "source": [
        "# Chart - 10 visualization code\n",
        "df14=df1.loc[:,['Hour','Visibility (10m)']]\n",
        "fig,ax=plt.subplots()\n",
        "df14.groupby('Hour').median().plot(ax=ax,kind='line',figsize=(9,5));\n",
        "ax.set_ylabel('visibility');\n",
        "ax.xaxis.set_ticks(np.arange(0,25,1));"
      ],
      "metadata": {
        "id": "GM7a4YP4phqQ"
      },
      "execution_count": null,
      "outputs": []
    },
    {
      "cell_type": "markdown",
      "source": [
        "##### 1. Why did you pick the specific chart?"
      ],
      "metadata": {
        "id": "1M8mcRywphqQ"
      }
    },
    {
      "cell_type": "markdown",
      "source": [
        "* It was required to see the trend in a time series and bar chart would have caused too much bars."
      ],
      "metadata": {
        "id": "8agQvks0phqQ"
      }
    },
    {
      "cell_type": "markdown",
      "source": [
        "##### 2. What is/are the insight(s) found from the chart?"
      ],
      "metadata": {
        "id": "tgIPom80phqQ"
      }
    },
    {
      "cell_type": "markdown",
      "source": [
        "* Visibility drops from 12 am to 7 am maybe due to dew/mist in air.\n",
        "* Visibility increases from 7 am upto 8 pm in the evening and then goes on decreasing."
      ],
      "metadata": {
        "id": "Qp13pnNzphqQ"
      }
    },
    {
      "cell_type": "markdown",
      "source": [
        "##### 3. Will the gained insights help creating a positive business impact?\n",
        "Are there any insights that lead to negative growth? Justify with specific reason."
      ],
      "metadata": {
        "id": "JMzcOPDDphqR"
      }
    },
    {
      "cell_type": "markdown",
      "source": [
        "* Bikes can be given an attachement of fog lamps if driving at night i.e from 8pm to 7 am."
      ],
      "metadata": {
        "id": "R4Ka1PC2phqR"
      }
    },
    {
      "cell_type": "markdown",
      "source": [
        "#### Chart - 11 - Hourly Wind Speed (Bivariate)"
      ],
      "metadata": {
        "id": "x-EpHcCOp1ci"
      }
    },
    {
      "cell_type": "code",
      "source": [
        "# Chart - 11 visualization code\n",
        "df15=df1.loc[:,['Hour','Wind speed (m/s)']]\n",
        "fig,ax=plt.subplots()\n",
        "df15.groupby('Hour').median('Wind speed (m/s)').plot(ax=ax,kind='line',figsize=(9,5));\n",
        "ax.xaxis.set_ticks(np.arange(0,25,1));\n",
        "ax.set_ylabel('Wind speed (m/s)');\n",
        "plt.grid()"
      ],
      "metadata": {
        "id": "mAQTIvtqp1cj"
      },
      "execution_count": null,
      "outputs": []
    },
    {
      "cell_type": "markdown",
      "source": [
        "##### 1. Why did you pick the specific chart?"
      ],
      "metadata": {
        "id": "X_VqEhTip1ck"
      }
    },
    {
      "cell_type": "markdown",
      "source": [
        "* It was required to see the trend in a time series and bar chart would have caused too much bars."
      ],
      "metadata": {
        "id": "-vsMzt_np1ck"
      }
    },
    {
      "cell_type": "markdown",
      "source": [
        "##### 2. What is/are the insight(s) found from the chart?"
      ],
      "metadata": {
        "id": "8zGJKyg5p1ck"
      }
    },
    {
      "cell_type": "markdown",
      "source": [
        "* Wind Speeds increase from 6 am till 4 pm and then goes on decreasing.\n",
        "* This means there are good winds in daylight and nominal winds in non daylight period."
      ],
      "metadata": {
        "id": "ZYdMsrqVp1ck"
      }
    },
    {
      "cell_type": "markdown",
      "source": [
        "##### 3. Will the gained insights help creating a positive business impact?\n",
        "Are there any insights that lead to negative growth? Justify with specific reason."
      ],
      "metadata": {
        "id": "PVzmfK_Ep1ck"
      }
    },
    {
      "cell_type": "markdown",
      "source": [
        "* Driving against the wind will use more fuel also driving with the wind will use less fuel. Driving with the wind during 6 am to 4 pm will require less fuel."
      ],
      "metadata": {
        "id": "druuKYZpp1ck"
      }
    },
    {
      "cell_type": "markdown",
      "source": [
        "#### Chart - 12 - Hourly Temperature (Bivariate)"
      ],
      "metadata": {
        "id": "n3dbpmDWp1ck"
      }
    },
    {
      "cell_type": "code",
      "source": [
        "# Chart - 12 visualization code\n",
        "df16=df1.loc[df1['Seasons']=='Winter',['Hour','Temperature(°C)']]\n",
        "df17=df1.loc[df1['Seasons']=='Spring',['Hour','Temperature(°C)']]\n",
        "df18=df1.loc[df1['Seasons']=='Summer',['Hour','Temperature(°C)']]\n",
        "df19=df1.loc[df1['Seasons']=='Autumn',['Hour','Temperature(°C)']]\n",
        "\n",
        "fig,ax=plt.subplots()\n",
        "\n",
        "df16.groupby('Hour').median('Temperature(°C)').plot(ax=ax,kind='line',color='blue',label='Winter',figsize=(9,5))\n",
        "df17.groupby('Hour').median('Temperature(°C)').plot(ax=ax,kind='line',color='orange',label='Spring')\n",
        "df18.groupby('Hour').median('Temperature(°C)').plot(ax=ax,kind='line',color='red',label='Summer')\n",
        "df19.groupby('Hour').median('Temperature(°C)').plot(ax=ax,kind='line',color='green',label='Autumn')\n",
        "\n",
        "plt.legend(['Winter','Spring','Summer','Autumn']) #legend for all plots.\n",
        "ax.set_ylabel('Temperature(°C)')\n",
        "ax.xaxis.set_ticks(np.arange(0,24,1));\n",
        "plt.grid()"
      ],
      "metadata": {
        "id": "bwevp1tKp1ck"
      },
      "execution_count": null,
      "outputs": []
    },
    {
      "cell_type": "markdown",
      "source": [
        "##### 1. Why did you pick the specific chart?"
      ],
      "metadata": {
        "id": "ylSl6qgtp1ck"
      }
    },
    {
      "cell_type": "markdown",
      "source": [
        "* Trends were needed to be see in a time series data and multiple  plots were required so line chart was the best option."
      ],
      "metadata": {
        "id": "m2xqNkiQp1ck"
      }
    },
    {
      "cell_type": "markdown",
      "source": [
        "##### 2. What is/are the insight(s) found from the chart?"
      ],
      "metadata": {
        "id": "ZWILFDl5p1ck"
      }
    },
    {
      "cell_type": "markdown",
      "source": [
        "* Temperature increases from  8 am to 3pm and then decreases for all seasons.\n",
        "* Round about same plot around the day for each season only tempearature range is different."
      ],
      "metadata": {
        "id": "x-lUsV2mp1ck"
      }
    },
    {
      "cell_type": "markdown",
      "source": [
        "##### 3. Will the gained insights help creating a positive business impact?\n",
        "Are there any insights that lead to negative growth? Justify with specific reason."
      ],
      "metadata": {
        "id": "M7G43BXep1ck"
      }
    },
    {
      "cell_type": "markdown",
      "source": [
        "* Bike must be maintained according to atmospheric temperature range."
      ],
      "metadata": {
        "id": "5wwDJXsLp1cl"
      }
    },
    {
      "cell_type": "markdown",
      "source": [
        "#### Chart - 13 - Hourly Solar Radiation (Bivariate)"
      ],
      "metadata": {
        "id": "Ag9LCva-p1cl"
      }
    },
    {
      "cell_type": "code",
      "source": [
        "# Chart - 13 visualization code\n",
        "df20=df1.loc[df1['Seasons']=='Winter',['Hour','Solar Radiation (MJ/m2)']]\n",
        "df21=df1.loc[df1['Seasons']=='Spring',['Hour','Solar Radiation (MJ/m2)']]\n",
        "df22=df1.loc[df1['Seasons']=='Summer',['Hour','Solar Radiation (MJ/m2)']]\n",
        "df23=df1.loc[df1['Seasons']=='Autumn',['Hour','Solar Radiation (MJ/m2)']]\n",
        "\n",
        "fig,ax=plt.subplots()\n",
        "\n",
        "df20.groupby('Hour').median('Solar Radiation (MJ/m2)').plot(ax=ax,kind='line',color='blue',label='Winter',figsize=(9,5))\n",
        "df21.groupby('Hour').median('Solar Radiation (MJ/m2)').plot(ax=ax,kind='line',color='orange',label='Spring')\n",
        "df22.groupby('Hour').median('Solar Radiation (MJ/m2)').plot(ax=ax,kind='line',color='red',label='Summer')\n",
        "df23.groupby('Hour').median('Solar Radiation (MJ/m2)').plot(ax=ax,kind='line',color='green',label='Autumn')\n",
        "\n",
        "plt.legend(['Winter','Spring','Summer','Autumn']) #legend for all plots.\n",
        "ax.set_ylabel('Solar Radiation (MJ/m2)')\n",
        "ax.xaxis.set_ticks(np.arange(0,24,1));\n",
        "plt.grid()\n"
      ],
      "metadata": {
        "id": "EUfxeq9-p1cl"
      },
      "execution_count": null,
      "outputs": []
    },
    {
      "cell_type": "markdown",
      "source": [
        "##### 1. Why did you pick the specific chart?"
      ],
      "metadata": {
        "id": "E6MkPsBcp1cl"
      }
    },
    {
      "cell_type": "markdown",
      "source": [
        "* Trends were needed to be see in a time series data and multiple plots were required so line chart was the best option."
      ],
      "metadata": {
        "id": "V22bRsFWp1cl"
      }
    },
    {
      "cell_type": "markdown",
      "source": [
        "##### 2. What is/are the insight(s) found from the chart?"
      ],
      "metadata": {
        "id": "2cELzS2fp1cl"
      }
    },
    {
      "cell_type": "markdown",
      "source": [
        "* Sun rises early at 6am during summers and as late as 8 am in winters.\n",
        "* Sun sets early at 6pm during winters and as late as 8pm in Summers.\n",
        "* Solar Radiation is maximum in Summer & Spring and least in winters."
      ],
      "metadata": {
        "id": "ozQPc2_Ip1cl"
      }
    },
    {
      "cell_type": "markdown",
      "source": [
        "##### 3. Will the gained insights help creating a positive business impact?\n",
        "Are there any insights that lead to negative growth? Justify with specific reason."
      ],
      "metadata": {
        "id": "3MPXvC8up1cl"
      }
    },
    {
      "cell_type": "markdown",
      "source": [
        "* If bikes are electric they would operate well during spring and summer as well as autumn, but not during winters."
      ],
      "metadata": {
        "id": "GL8l1tdLp1cl"
      }
    },
    {
      "cell_type": "markdown",
      "source": [
        "#### Chart - 14 - Correlation Heatmap"
      ],
      "metadata": {
        "id": "NC_X3p0fY2L0"
      }
    },
    {
      "cell_type": "code",
      "source": [
        "# Correlation Heatmap visualization code\n",
        "sns.heatmap(df1.corr(), annot = True, linewidths=1.0, fmt=\".3f\");\n",
        "plt.title(\"Heatmap for numerical columns\", size=15);"
      ],
      "metadata": {
        "id": "xyC9zolEZNRQ"
      },
      "execution_count": null,
      "outputs": []
    },
    {
      "cell_type": "markdown",
      "source": [
        "##### 1. Why did you pick the specific chart?"
      ],
      "metadata": {
        "id": "UV0SzAkaZNRQ"
      }
    },
    {
      "cell_type": "markdown",
      "source": [
        "* Correlation was required between the columns of the data."
      ],
      "metadata": {
        "id": "DVPuT8LYZNRQ"
      }
    },
    {
      "cell_type": "markdown",
      "source": [
        "##### 2. What is/are the insight(s) found from the chart?"
      ],
      "metadata": {
        "id": "YPEH6qLeZNRQ"
      }
    },
    {
      "cell_type": "markdown",
      "source": [
        "* Rented bike count is mostly affected by temperature, hour and dew point temperature.\n",
        "* Dew point temperature and temperature are strongly coorelated with each other.\n",
        "* Visibility,Solar radition and humidity are negatively coorelated with each other.\n"
      ],
      "metadata": {
        "id": "bfSqtnDqZNRR"
      }
    },
    {
      "cell_type": "markdown",
      "source": [
        "#### Chart - 15 - Pair Plot"
      ],
      "metadata": {
        "id": "q29F0dvdveiT"
      }
    },
    {
      "cell_type": "code",
      "source": [
        "# Pair Plot visualization code\n",
        "sns.pairplot(df1,diag_kind='kde')"
      ],
      "metadata": {
        "id": "o58-TEIhveiU"
      },
      "execution_count": null,
      "outputs": []
    },
    {
      "cell_type": "markdown",
      "source": [
        "##### 1. Why did you pick the specific chart?"
      ],
      "metadata": {
        "id": "EXh0U9oCveiU"
      }
    },
    {
      "cell_type": "markdown",
      "source": [
        "* A pairplot distribution was needed to see the distribution of data."
      ],
      "metadata": {
        "id": "eMmPjTByveiU"
      }
    },
    {
      "cell_type": "markdown",
      "source": [
        "##### 2. What is/are the insight(s) found from the chart?"
      ],
      "metadata": {
        "id": "22aHeOlLveiV"
      }
    },
    {
      "cell_type": "markdown",
      "source": [
        "* Solar radition is evenly dstributed with hour.\n",
        "* Hour column data is evenly distributed.\n",
        "* Rented bike count,wind speed , solar radition is right skewed.Visibilty is left skewed.\n",
        "* Most of the data in columns have numerous small peaks."
      ],
      "metadata": {
        "id": "uPQ8RGwHveiV"
      }
    },
    {
      "cell_type": "markdown",
      "source": [
        "## ***5. Hypothesis Testing***"
      ],
      "metadata": {
        "id": "g-ATYxFrGrvw"
      }
    },
    {
      "cell_type": "markdown",
      "source": [
        "### Based on your chart experiments, define three hypothetical statements from the dataset. In the next three questions, perform hypothesis testing to obtain final conclusion about the statements through your code and statistical testing."
      ],
      "metadata": {
        "id": "Yfr_Vlr8HBkt"
      }
    },
    {
      "cell_type": "markdown",
      "source": [
        "Answer Here."
      ],
      "metadata": {
        "id": "-7MS06SUHkB-"
      }
    },
    {
      "cell_type": "markdown",
      "source": [
        "### Hypothetical Statement - 1"
      ],
      "metadata": {
        "id": "8yEUt7NnHlrM"
      }
    },
    {
      "cell_type": "markdown",
      "source": [
        "#### 1. State Your research hypothesis as a null hypothesis and alternate hypothesis."
      ],
      "metadata": {
        "id": "tEA2Xm5dHt1r"
      }
    },
    {
      "cell_type": "markdown",
      "source": [
        "Answer Here."
      ],
      "metadata": {
        "id": "HI9ZP0laH0D-"
      }
    },
    {
      "cell_type": "markdown",
      "source": [
        "#### 2. Perform an appropriate statistical test."
      ],
      "metadata": {
        "id": "I79__PHVH19G"
      }
    },
    {
      "cell_type": "code",
      "source": [
        "# Perform Statistical Test to obtain P-Value"
      ],
      "metadata": {
        "id": "oZrfquKtyian"
      },
      "execution_count": null,
      "outputs": []
    },
    {
      "cell_type": "markdown",
      "source": [
        "##### Which statistical test have you done to obtain P-Value?"
      ],
      "metadata": {
        "id": "Ou-I18pAyIpj"
      }
    },
    {
      "cell_type": "markdown",
      "source": [
        "Answer Here."
      ],
      "metadata": {
        "id": "s2U0kk00ygSB"
      }
    },
    {
      "cell_type": "markdown",
      "source": [
        "##### Why did you choose the specific statistical test?"
      ],
      "metadata": {
        "id": "fF3858GYyt-u"
      }
    },
    {
      "cell_type": "markdown",
      "source": [
        "Answer Here."
      ],
      "metadata": {
        "id": "HO4K0gP5y3B4"
      }
    },
    {
      "cell_type": "markdown",
      "source": [
        "### Hypothetical Statement - 2"
      ],
      "metadata": {
        "id": "4_0_7-oCpUZd"
      }
    },
    {
      "cell_type": "markdown",
      "source": [
        "#### 1. State Your research hypothesis as a null hypothesis and alternate hypothesis."
      ],
      "metadata": {
        "id": "hwyV_J3ipUZe"
      }
    },
    {
      "cell_type": "markdown",
      "source": [
        "Answer Here."
      ],
      "metadata": {
        "id": "FnpLGJ-4pUZe"
      }
    },
    {
      "cell_type": "markdown",
      "source": [
        "#### 2. Perform an appropriate statistical test."
      ],
      "metadata": {
        "id": "3yB-zSqbpUZe"
      }
    },
    {
      "cell_type": "code",
      "source": [
        "# Perform Statistical Test to obtain P-Value"
      ],
      "metadata": {
        "id": "sWxdNTXNpUZe"
      },
      "execution_count": null,
      "outputs": []
    },
    {
      "cell_type": "markdown",
      "source": [
        "##### Which statistical test have you done to obtain P-Value?"
      ],
      "metadata": {
        "id": "dEUvejAfpUZe"
      }
    },
    {
      "cell_type": "markdown",
      "source": [
        "Answer Here."
      ],
      "metadata": {
        "id": "oLDrPz7HpUZf"
      }
    },
    {
      "cell_type": "markdown",
      "source": [
        "##### Why did you choose the specific statistical test?"
      ],
      "metadata": {
        "id": "Fd15vwWVpUZf"
      }
    },
    {
      "cell_type": "markdown",
      "source": [
        "Answer Here."
      ],
      "metadata": {
        "id": "4xOGYyiBpUZf"
      }
    },
    {
      "cell_type": "markdown",
      "source": [
        "### Hypothetical Statement - 3"
      ],
      "metadata": {
        "id": "bn_IUdTipZyH"
      }
    },
    {
      "cell_type": "markdown",
      "source": [
        "#### 1. State Your research hypothesis as a null hypothesis and alternate hypothesis."
      ],
      "metadata": {
        "id": "49K5P_iCpZyH"
      }
    },
    {
      "cell_type": "markdown",
      "source": [
        "Answer Here."
      ],
      "metadata": {
        "id": "7gWI5rT9pZyH"
      }
    },
    {
      "cell_type": "markdown",
      "source": [
        "#### 2. Perform an appropriate statistical test."
      ],
      "metadata": {
        "id": "Nff-vKELpZyI"
      }
    },
    {
      "cell_type": "code",
      "source": [
        "# Perform Statistical Test to obtain P-Value"
      ],
      "metadata": {
        "id": "s6AnJQjtpZyI"
      },
      "execution_count": null,
      "outputs": []
    },
    {
      "cell_type": "markdown",
      "source": [
        "##### Which statistical test have you done to obtain P-Value?"
      ],
      "metadata": {
        "id": "kLW572S8pZyI"
      }
    },
    {
      "cell_type": "markdown",
      "source": [
        "Answer Here."
      ],
      "metadata": {
        "id": "ytWJ8v15pZyI"
      }
    },
    {
      "cell_type": "markdown",
      "source": [
        "##### Why did you choose the specific statistical test?"
      ],
      "metadata": {
        "id": "dWbDXHzopZyI"
      }
    },
    {
      "cell_type": "markdown",
      "source": [
        "Answer Here."
      ],
      "metadata": {
        "id": "M99G98V6pZyI"
      }
    },
    {
      "cell_type": "markdown",
      "source": [
        "## ***6. Feature Engineering & Data Pre-processing***"
      ],
      "metadata": {
        "id": "yLjJCtPM0KBk"
      }
    },
    {
      "cell_type": "markdown",
      "source": [
        "### 1. Handling Missing Values"
      ],
      "metadata": {
        "id": "xiyOF9F70UgQ"
      }
    },
    {
      "cell_type": "code",
      "source": [
        "# Handling Missing Values & Missing Value Imputation\n",
        "# no missing values in dataset , checked in data wrangling section.\n",
        "# checked the gap in date  there was none.\n",
        "df1.isna().sum()"
      ],
      "metadata": {
        "id": "iRsAHk1K0fpS"
      },
      "execution_count": null,
      "outputs": []
    },
    {
      "cell_type": "markdown",
      "source": [
        "#### What all missing value imputation techniques have you used and why did you use those techniques?"
      ],
      "metadata": {
        "id": "7wuGOrhz0itI"
      }
    },
    {
      "cell_type": "markdown",
      "source": [
        "* During Data Wrangling the gap in date column was checked and there was no gap,the days were continous.\n",
        "* In the above code block we can see that there are no NaN values in any of the columns.\n",
        "* Also to find if there were any missing values that were randomly typed or are abnormal , these were checked while checking unique values of each column and they were also checked after outlier detection in data wrangling."
      ],
      "metadata": {
        "id": "1ixusLtI0pqI"
      }
    },
    {
      "cell_type": "markdown",
      "source": [
        "### 2. Handling Outliers"
      ],
      "metadata": {
        "id": "id1riN9m0vUs"
      }
    },
    {
      "cell_type": "code",
      "source": [
        "# Handling Outliers & Outlier treatments\n",
        "# Outliers handled during data wrangling"
      ],
      "metadata": {
        "id": "M6w2CzZf04JK"
      },
      "execution_count": null,
      "outputs": []
    },
    {
      "cell_type": "markdown",
      "source": [
        "##### What all outlier treatment techniques have you used and why did you use those techniques?"
      ],
      "metadata": {
        "id": "578E2V7j08f6"
      }
    },
    {
      "cell_type": "markdown",
      "source": [
        "* There are outliers in columns like rented bike count,wind speed, solar radiation, snowfall, rainfall.\n",
        "* When checked the unique values of each column which were outliers, these values were not any data entry error or values which were too vague, these were values which were actually possible.\n",
        "* hence decided to keep the outliers."
      ],
      "metadata": {
        "id": "uGZz5OrT1HH-"
      }
    },
    {
      "cell_type": "markdown",
      "source": [
        "### 3. Categorical Encoding"
      ],
      "metadata": {
        "id": "89xtkJwZ18nB"
      }
    },
    {
      "cell_type": "code",
      "source": [
        "# Encode your categorical columns\n",
        "# Categorical encoding is required to convert categorical data into numerical data so that the information could be used in machine learning model\n",
        "\n",
        "#encoding for columns like seasons\n",
        "df1=pd.get_dummies(df1,columns=['Seasons'])\n",
        "\n",
        "#encoding holiday and functioning day columns, both columns have dichotomous data and we get infinite VIF when two columns are made from one column.\n",
        "df1=pd.get_dummies(df1,columns=['Holiday','Functioning Day'],drop_first=True)\n",
        "\n",
        "#this one hot encoding technique encodes and deletes the column which has been encoded"
      ],
      "metadata": {
        "id": "21JmIYMG2hEo"
      },
      "execution_count": null,
      "outputs": []
    },
    {
      "cell_type": "markdown",
      "source": [
        "#### What all categorical encoding techniques have you used & why did you use those techniques?"
      ],
      "metadata": {
        "id": "67NQN5KX2AMe"
      }
    },
    {
      "cell_type": "markdown",
      "source": [
        "* Three columns were categorical wiz seasons,holiday, functioning day. One hot encoding was used to encode them.\n",
        "* If the data was ordinal, ordinal encoding could have been used but there is no inheritent order. using one hot encoding was the best choice."
      ],
      "metadata": {
        "id": "UDaue5h32n_G"
      }
    },
    {
      "cell_type": "markdown",
      "source": [
        "### 4. Feature Manipulation & Selection"
      ],
      "metadata": {
        "id": "-oLEiFgy-5Pf"
      }
    },
    {
      "cell_type": "markdown",
      "source": [
        "#### 1. Feature Manipulation"
      ],
      "metadata": {
        "id": "C74aWNz2AliB"
      }
    },
    {
      "cell_type": "code",
      "source": [
        "# Manipulate Features to minimize feature correlation and create new features\n",
        "\n",
        "#checking correlation\n",
        "plt.figure(figsize=(15,10))    #giving figure size by plt.figure is the pyplot way of plotting graphs unlike plt.subplots which plots figure in object oriented way\n",
        "sns.heatmap(df1.corr(),annot = True, linewidths=1.0, fmt=\".3f\",cmap='coolwarm');"
      ],
      "metadata": {
        "id": "h1qC4yhBApWC"
      },
      "execution_count": null,
      "outputs": []
    },
    {
      "cell_type": "code",
      "source": [
        "#date column dosent add any value to the regression model hence its necessary to drop it.\n",
        "df1.drop('Date',axis=1,inplace=True)\n",
        "\n",
        "#dew point tempearature has a lot of corelation with temperature hence we are dropping it to remove multicolinearity\n",
        "df1.drop('Dew point temperature(°C)',axis=1,inplace=True)"
      ],
      "metadata": {
        "id": "61jWEjf_i3tr"
      },
      "execution_count": null,
      "outputs": []
    },
    {
      "cell_type": "markdown",
      "source": [
        "#### 2. Feature Selection"
      ],
      "metadata": {
        "id": "2DejudWSA-a0"
      }
    },
    {
      "cell_type": "code",
      "source": [
        "# Select your features wisely to avoid overfitting\n",
        "\n",
        "def calc_vif(X):\n",
        "\n",
        "  #calculating vif\n",
        "  vif=pd.DataFrame()\n",
        "  vif['columns']=X.columns\n",
        "  vif[\"VIF\"] = [variance_inflation_factor(X.values, i) for i in range(X.shape[1])]\n",
        "  return(vif)\n",
        "\n",
        "columns_required_for_vif=list(set(df1.columns)-{'Rented Bike Count'})\n",
        "\n",
        "calc_vif(df1[columns_required_for_vif])   #from df1 taking those columns which are required for checking multicolinearity."
      ],
      "metadata": {
        "id": "YLhe8UmaBCEE"
      },
      "execution_count": null,
      "outputs": []
    },
    {
      "cell_type": "code",
      "source": [
        "# a lot of features have VIF more than 10 lets drop winter season as it contributes less to rented bike count lets check vif again\n",
        "df1.drop('Seasons_Winter',inplace=True,axis=1)\n",
        "\n",
        "columns_required_for_vif=list(set(df1.columns)-{'Rented Bike Count'})\n",
        "calc_vif(df1[columns_required_for_vif])"
      ],
      "metadata": {
        "id": "DswtQmTEXeq9"
      },
      "execution_count": null,
      "outputs": []
    },
    {
      "cell_type": "code",
      "source": [
        "#functioning Day yes has most VIF lets drop it and check VIF again.\n",
        "df1.drop('Functioning Day_Yes',inplace=True,axis=1)\n",
        "\n",
        "columns_required_for_vif=list(set(df1.columns)-{'Rented Bike Count'})\n",
        "calc_vif(df1[columns_required_for_vif])"
      ],
      "metadata": {
        "id": "fCQ94Ck_bc7U"
      },
      "execution_count": null,
      "outputs": []
    },
    {
      "cell_type": "code",
      "source": [
        "#Holiday_No_Holiday has highest VIF so lets drop it and check VIf again.\n",
        "df1.drop('Holiday_No Holiday',inplace=True,axis=1)\n",
        "\n",
        "columns_required_for_vif=list(set(df1.columns)-{'Rented Bike Count'})\n",
        "calc_vif(df1[columns_required_for_vif])"
      ],
      "metadata": {
        "id": "serOmUHNAmAT"
      },
      "execution_count": null,
      "outputs": []
    },
    {
      "cell_type": "markdown",
      "source": [
        "##### What all feature selection methods have you used  and why?"
      ],
      "metadata": {
        "id": "pEMng2IbBLp7"
      }
    },
    {
      "cell_type": "markdown",
      "source": [
        "* We have done feature selection by using pearson:standard corelation coefficient and VIF.\n",
        "* Pearson standard correlation coefficient was calculated while heatmap was plotted using df.corr() function.\n",
        "* We have dropped columns which have highest one to one correlation other than the correlation with the target variable.\n",
        "* We have dropped columns iteratively in 4 steps by calculating VIF and droping feature which has highest VIF.\n",
        "* VIF is Variance Inflation Factor, it gives us a score of how one feature can be predicted by other independent features.If a feature can be so highely predicted by other features then its actually not needed."
      ],
      "metadata": {
        "id": "rb2Lh6Z8BgGs"
      }
    },
    {
      "cell_type": "markdown",
      "source": [
        "##### Which all features you found important and why?"
      ],
      "metadata": {
        "id": "rAdphbQ9Bhjc"
      }
    },
    {
      "cell_type": "markdown",
      "source": [
        "* Date is a column/feature that is not required for regression model, hence we have dropped it.\n",
        "* Dew point tempearature was highly correlated with temperature hence dropped.\n",
        "* While calculating VIF rented bike count was not taken into account as it our target variable.\n",
        "* Columns like Season_Winter, functioning day Yes,holiday_no holiday had highest VIF and were removed iteratively.\n",
        "* All 10 columns like Hour, Temperature(°C), Humidity(%),Wind speed (m/s), Visibility (10m), Solar Radiation (MJ/m2),Rainfall(mm),Snowfall (cm),Seasons_Autumn,Seasons_Spring,Seasons_Summer are there in model as they have no strong VIF and are independent of each other."
      ],
      "metadata": {
        "id": "fGgaEstsBnaf"
      }
    },
    {
      "cell_type": "markdown",
      "source": [
        "### 5. Data Scaling"
      ],
      "metadata": {
        "id": "rMDnDkt2B6du"
      }
    },
    {
      "cell_type": "code",
      "source": [
        "# Scaling your data\n",
        "\n",
        "# here we have switched the steps and taken data scaling first and kept data transformation as the next step, this is because for data transformation we need postive values.\n",
        "from sklearn.preprocessing import StandardScaler\n",
        "\n",
        "data_without_target=df1.drop('Rented Bike Count',axis=1)  #here we have not used inplace=True hence it wont change original datarame completely.\n",
        "target_df=df1[['Rented Bike Count']]    #target feature rented bike count has not been scaled.\n",
        "feature_scaled_df=StandardScaler().fit_transform(data_without_target)"
      ],
      "metadata": {
        "id": "dL9LWpySC6x_"
      },
      "execution_count": null,
      "outputs": []
    },
    {
      "cell_type": "markdown",
      "source": [
        "##### Which method have you used to scale you data and why?\n",
        "* There are two methods of scaling data one by min max scalar and other by standard scalar.\n",
        "* We have used standard scalar as we need features which are normalised , so that no feature is biased.\n",
        "* Min max scaler is used when complete data has a range already, Standard scalar uses Z-scores for scaling so that all features are unbiased towards predicting the model."
      ],
      "metadata": {
        "id": "yiiVWRdJDDil"
      }
    },
    {
      "cell_type": "markdown",
      "source": [
        "### 6. Data Transformation"
      ],
      "metadata": {
        "id": "TNVZ9zx19K6k"
      }
    },
    {
      "cell_type": "code",
      "source": [
        "target_df.hist(figsize=(5,5))"
      ],
      "metadata": {
        "id": "e6iqk9Y81dyA"
      },
      "execution_count": null,
      "outputs": []
    },
    {
      "cell_type": "code",
      "source": [
        "# Transform Your data\n",
        "\n",
        "#as we have seen in the pairplot apart from Hour most of the features dont have normal distribution\n",
        "\n",
        "from sklearn.preprocessing import PowerTransformer\n",
        "\n",
        "#making target variable distribution normal, Target feature conditioning\n",
        "pt_target_df=PowerTransformer().fit_transform(target_df)\n",
        "\n",
        "#making features normal\n",
        "pt_features_df=PowerTransformer().fit_transform(feature_scaled_df)"
      ],
      "metadata": {
        "id": "I6quWQ1T9rtH"
      },
      "execution_count": null,
      "outputs": []
    },
    {
      "cell_type": "code",
      "source": [
        "pd.DataFrame(pt_features_df).hist()"
      ],
      "metadata": {
        "id": "BPVKBRvm1sHd"
      },
      "execution_count": null,
      "outputs": []
    },
    {
      "cell_type": "markdown",
      "source": [
        "#### Do you think that your data needs to be transformed? If yes, which transformation have you used. Explain Why?\n",
        "* The data is required to be transformed, as apart from hour column as we saw in the  pairplot all other columns have skewed distribution.\n",
        "* It is required to make data distribution more normal/gaussian like so that prediction error is minimised and more number of statistical toolsets are available.  "
      ],
      "metadata": {
        "id": "nqoHp30x9hH9"
      }
    },
    {
      "cell_type": "markdown",
      "source": [
        "### 7. Dimesionality Reduction"
      ],
      "metadata": {
        "id": "1UUpS68QDMuG"
      }
    },
    {
      "cell_type": "markdown",
      "source": [
        "##### Do you think that dimensionality reduction is needed? Explain Why?"
      ],
      "metadata": {
        "id": "kexQrXU-DjzY"
      }
    },
    {
      "cell_type": "markdown",
      "source": [
        "There are countable features for the model, So dimensionality reduction is not required."
      ],
      "metadata": {
        "id": "GGRlBsSGDtTQ"
      }
    },
    {
      "cell_type": "code",
      "source": [
        "# DImensionality Reduction (If needed)"
      ],
      "metadata": {
        "id": "kQfvxBBHDvCa"
      },
      "execution_count": null,
      "outputs": []
    },
    {
      "cell_type": "markdown",
      "source": [
        "##### Which dimensionality reduction technique have you used and why? (If dimensionality reduction done on dataset.)"
      ],
      "metadata": {
        "id": "T5CmagL3EC8N"
      }
    },
    {
      "cell_type": "markdown",
      "source": [
        "Answer Here."
      ],
      "metadata": {
        "id": "ZKr75IDuEM7t"
      }
    },
    {
      "cell_type": "markdown",
      "source": [
        "### 8. Data Splitting"
      ],
      "metadata": {
        "id": "BhH2vgX9EjGr"
      }
    },
    {
      "cell_type": "code",
      "source": [
        "# Split your data to train and test. Choose Splitting ratio wisely.\n",
        "from sklearn.model_selection import train_test_split\n",
        "#numpy array having all transformed feature data and target value ,assigning them values.\n",
        "X=pt_features_df #capital X, it contains all features left after feature selection which are scaled and power transformed.\n",
        "Y=pt_target_df  #capital Y, it only contains rented bike count which is unscaled but power transformed\n",
        "\n",
        "xtrain,xtest,ytrain,ytest=train_test_split(X,Y,test_size=0.20,random_state=10)"
      ],
      "metadata": {
        "id": "0CTyd2UwEyNM"
      },
      "execution_count": null,
      "outputs": []
    },
    {
      "cell_type": "markdown",
      "source": [
        "##### What data splitting ratio have you used and why?"
      ],
      "metadata": {
        "id": "qjKvONjwE8ra"
      }
    },
    {
      "cell_type": "markdown",
      "source": [
        "* 80/20 train test split is mostly used for splitting the data. As most of the data can be used for training the data.\n",
        "* If number of rows in the model would have been too high ,computationally training data would have been too time consuming during such condition 50/50 train test split would even be considered."
      ],
      "metadata": {
        "id": "Y2lJ8cobFDb_"
      }
    },
    {
      "cell_type": "markdown",
      "source": [
        "### 9. Handling Imbalanced Dataset"
      ],
      "metadata": {
        "id": "P1XJ9OREExlT"
      }
    },
    {
      "cell_type": "markdown",
      "source": [
        "##### Do you think the dataset is imbalanced? Explain Why."
      ],
      "metadata": {
        "id": "VFOzZv6IFROw"
      }
    },
    {
      "cell_type": "markdown",
      "source": [
        "The data is not imbalanced."
      ],
      "metadata": {
        "id": "GeKDIv7pFgcC"
      }
    },
    {
      "cell_type": "code",
      "source": [
        "# Handling Imbalanced Dataset (If needed)"
      ],
      "metadata": {
        "id": "nQsRhhZLFiDs"
      },
      "execution_count": null,
      "outputs": []
    },
    {
      "cell_type": "markdown",
      "source": [
        "##### What technique did you use to handle the imbalance dataset and why? (If needed to be balanced)"
      ],
      "metadata": {
        "id": "TIqpNgepFxVj"
      }
    },
    {
      "cell_type": "markdown",
      "source": [
        "Answer Here."
      ],
      "metadata": {
        "id": "qbet1HwdGDTz"
      }
    },
    {
      "cell_type": "markdown",
      "source": [
        "## ***7. ML Model Implementation***"
      ],
      "metadata": {
        "id": "VfCC591jGiD4"
      }
    },
    {
      "cell_type": "markdown",
      "source": [
        "### ML Model - 1"
      ],
      "metadata": {
        "id": "OB4l2ZhMeS1U"
      }
    },
    {
      "cell_type": "code",
      "source": [
        "# ML Model - 1 Implementation\n",
        "\n",
        "# Fit the Algorithm\n",
        "\n",
        "# Predict on the model"
      ],
      "metadata": {
        "id": "7ebyywQieS1U"
      },
      "execution_count": null,
      "outputs": []
    },
    {
      "cell_type": "markdown",
      "source": [
        "#### 1. Explain the ML Model used and it's performance using Evaluation metric Score Chart."
      ],
      "metadata": {
        "id": "ArJBuiUVfxKd"
      }
    },
    {
      "cell_type": "code",
      "source": [
        "# Visualizing evaluation Metric Score chart"
      ],
      "metadata": {
        "id": "rqD5ZohzfxKe"
      },
      "execution_count": null,
      "outputs": []
    },
    {
      "cell_type": "markdown",
      "source": [
        "#### 2. Cross- Validation & Hyperparameter Tuning"
      ],
      "metadata": {
        "id": "4qY1EAkEfxKe"
      }
    },
    {
      "cell_type": "code",
      "source": [
        "# ML Model - 1 Implementation with hyperparameter optimization techniques (i.e., GridSearch CV, RandomSearch CV, Bayesian Optimization etc.)\n",
        "\n",
        "# Fit the Algorithm\n",
        "\n",
        "# Predict on the model"
      ],
      "metadata": {
        "id": "Dy61ujd6fxKe"
      },
      "execution_count": null,
      "outputs": []
    },
    {
      "cell_type": "markdown",
      "source": [
        "##### Which hyperparameter optimization technique have you used and why?"
      ],
      "metadata": {
        "id": "PiV4Ypx8fxKe"
      }
    },
    {
      "cell_type": "markdown",
      "source": [
        "Answer Here."
      ],
      "metadata": {
        "id": "negyGRa7fxKf"
      }
    },
    {
      "cell_type": "markdown",
      "source": [
        "##### Have you seen any improvement? Note down the improvement with updates Evaluation metric Score Chart."
      ],
      "metadata": {
        "id": "TfvqoZmBfxKf"
      }
    },
    {
      "cell_type": "markdown",
      "source": [
        "Answer Here."
      ],
      "metadata": {
        "id": "OaLui8CcfxKf"
      }
    },
    {
      "cell_type": "markdown",
      "source": [
        "### ML Model - 2"
      ],
      "metadata": {
        "id": "dJ2tPlVmpsJ0"
      }
    },
    {
      "cell_type": "markdown",
      "source": [
        "#### 1. Explain the ML Model used and it's performance using Evaluation metric Score Chart."
      ],
      "metadata": {
        "id": "JWYfwnehpsJ1"
      }
    },
    {
      "cell_type": "code",
      "source": [
        "# Visualizing evaluation Metric Score chart"
      ],
      "metadata": {
        "id": "yEl-hgQWpsJ1"
      },
      "execution_count": null,
      "outputs": []
    },
    {
      "cell_type": "markdown",
      "source": [
        "#### 2. Cross- Validation & Hyperparameter Tuning"
      ],
      "metadata": {
        "id": "-jK_YjpMpsJ2"
      }
    },
    {
      "cell_type": "code",
      "source": [
        "# ML Model - 1 Implementation with hyperparameter optimization techniques (i.e., GridSearch CV, RandomSearch CV, Bayesian Optimization etc.)\n",
        "\n",
        "# Fit the Algorithm\n",
        "\n",
        "# Predict on the model"
      ],
      "metadata": {
        "id": "Dn0EOfS6psJ2"
      },
      "execution_count": null,
      "outputs": []
    },
    {
      "cell_type": "markdown",
      "source": [
        "##### Which hyperparameter optimization technique have you used and why?"
      ],
      "metadata": {
        "id": "HAih1iBOpsJ2"
      }
    },
    {
      "cell_type": "markdown",
      "source": [
        "Answer Here."
      ],
      "metadata": {
        "id": "9kBgjYcdpsJ2"
      }
    },
    {
      "cell_type": "markdown",
      "source": [
        "##### Have you seen any improvement? Note down the improvement with updates Evaluation metric Score Chart."
      ],
      "metadata": {
        "id": "zVGeBEFhpsJ2"
      }
    },
    {
      "cell_type": "markdown",
      "source": [
        "Answer Here."
      ],
      "metadata": {
        "id": "74yRdG6UpsJ3"
      }
    },
    {
      "cell_type": "markdown",
      "source": [
        "#### 3. Explain each evaluation metric's indication towards business and the business impact pf the ML model used."
      ],
      "metadata": {
        "id": "bmKjuQ-FpsJ3"
      }
    },
    {
      "cell_type": "markdown",
      "source": [
        "Answer Here."
      ],
      "metadata": {
        "id": "BDKtOrBQpsJ3"
      }
    },
    {
      "cell_type": "markdown",
      "source": [
        "### ML Model - 3"
      ],
      "metadata": {
        "id": "Fze-IPXLpx6K"
      }
    },
    {
      "cell_type": "code",
      "source": [
        "# ML Model - 3 Implementation\n",
        "\n",
        "# Fit the Algorithm\n",
        "\n",
        "# Predict on the model"
      ],
      "metadata": {
        "id": "FFrSXAtrpx6M"
      },
      "execution_count": null,
      "outputs": []
    },
    {
      "cell_type": "markdown",
      "source": [
        "#### 1. Explain the ML Model used and it's performance using Evaluation metric Score Chart."
      ],
      "metadata": {
        "id": "7AN1z2sKpx6M"
      }
    },
    {
      "cell_type": "code",
      "source": [
        "# Visualizing evaluation Metric Score chart"
      ],
      "metadata": {
        "id": "xIY4lxxGpx6M"
      },
      "execution_count": null,
      "outputs": []
    },
    {
      "cell_type": "markdown",
      "source": [
        "#### 2. Cross- Validation & Hyperparameter Tuning"
      ],
      "metadata": {
        "id": "9PIHJqyupx6M"
      }
    },
    {
      "cell_type": "code",
      "source": [
        "# ML Model - 3 Implementation with hyperparameter optimization techniques (i.e., GridSearch CV, RandomSearch CV, Bayesian Optimization etc.)\n",
        "\n",
        "# Fit the Algorithm\n",
        "\n",
        "# Predict on the model"
      ],
      "metadata": {
        "id": "eSVXuaSKpx6M"
      },
      "execution_count": null,
      "outputs": []
    },
    {
      "cell_type": "markdown",
      "source": [
        "##### Which hyperparameter optimization technique have you used and why?"
      ],
      "metadata": {
        "id": "_-qAgymDpx6N"
      }
    },
    {
      "cell_type": "markdown",
      "source": [
        "Answer Here."
      ],
      "metadata": {
        "id": "lQMffxkwpx6N"
      }
    },
    {
      "cell_type": "markdown",
      "source": [
        "##### Have you seen any improvement? Note down the improvement with updates Evaluation metric Score Chart."
      ],
      "metadata": {
        "id": "Z-hykwinpx6N"
      }
    },
    {
      "cell_type": "markdown",
      "source": [
        "Answer Here."
      ],
      "metadata": {
        "id": "MzVzZC6opx6N"
      }
    },
    {
      "cell_type": "markdown",
      "source": [
        "### 1. Which Evaluation metrics did you consider for a positive business impact and why?"
      ],
      "metadata": {
        "id": "h_CCil-SKHpo"
      }
    },
    {
      "cell_type": "markdown",
      "source": [
        "Answer Here."
      ],
      "metadata": {
        "id": "jHVz9hHDKFms"
      }
    },
    {
      "cell_type": "markdown",
      "source": [
        "### 2. Which ML model did you choose from the above created models as your final prediction model and why?"
      ],
      "metadata": {
        "id": "cBFFvTBNJzUa"
      }
    },
    {
      "cell_type": "markdown",
      "source": [
        "Answer Here."
      ],
      "metadata": {
        "id": "6ksF5Q1LKTVm"
      }
    },
    {
      "cell_type": "markdown",
      "source": [
        "### 3. Explain the model which you have used and the feature importance using any model explainability tool?"
      ],
      "metadata": {
        "id": "HvGl1hHyA_VK"
      }
    },
    {
      "cell_type": "markdown",
      "source": [
        "Answer Here."
      ],
      "metadata": {
        "id": "YnvVTiIxBL-C"
      }
    },
    {
      "cell_type": "markdown",
      "source": [
        "## ***8.*** ***Future Work (Optional)***"
      ],
      "metadata": {
        "id": "EyNgTHvd2WFk"
      }
    },
    {
      "cell_type": "markdown",
      "source": [
        "### 1. Save the best performing ml model in a pickle file or joblib file format for deployment process.\n"
      ],
      "metadata": {
        "id": "KH5McJBi2d8v"
      }
    },
    {
      "cell_type": "code",
      "source": [
        "# Save the File"
      ],
      "metadata": {
        "id": "bQIANRl32f4J"
      },
      "execution_count": null,
      "outputs": []
    },
    {
      "cell_type": "markdown",
      "source": [
        "### 2. Again Load the saved model file and try to predict unseen data for a sanity check.\n"
      ],
      "metadata": {
        "id": "iW_Lq9qf2h6X"
      }
    },
    {
      "cell_type": "code",
      "source": [
        "# Load the File and predict unseen data."
      ],
      "metadata": {
        "id": "oEXk9ydD2nVC"
      },
      "execution_count": null,
      "outputs": []
    },
    {
      "cell_type": "markdown",
      "source": [
        "### ***Congrats! Your model is successfully created and ready for deployment on a live server for a real user interaction !!!***"
      ],
      "metadata": {
        "id": "-Kee-DAl2viO"
      }
    },
    {
      "cell_type": "markdown",
      "source": [
        "# **Conclusion**"
      ],
      "metadata": {
        "id": "gCX9965dhzqZ"
      }
    },
    {
      "cell_type": "markdown",
      "source": [
        "Write the conclusion here."
      ],
      "metadata": {
        "id": "Fjb1IsQkh3yE"
      }
    },
    {
      "cell_type": "markdown",
      "source": [
        "### ***Hurrah! You have successfully completed your Machine Learning Capstone Project !!!***"
      ],
      "metadata": {
        "id": "gIfDvo9L0UH2"
      }
    }
  ]
}